{
  "nbformat": 4,
  "nbformat_minor": 0,
  "metadata": {
    "colab": {
      "name": "0_03_Kontrollstrukturen-I.ipynb",
      "provenance": [],
      "collapsed_sections": [
        "_-Hu3hnhmc2F"
      ],
      "authorship_tag": "ABX9TyNP+F7mNOpxV5C0SGr0wESZ",
      "include_colab_link": true
    },
    "kernelspec": {
      "name": "python3",
      "display_name": "Python 3"
    }
  },
  "cells": [
    {
      "cell_type": "markdown",
      "metadata": {
        "id": "view-in-github",
        "colab_type": "text"
      },
      "source": [
        "<a href=\"https://colab.research.google.com/github/christopher3996/python_courses/blob/main/0_03_Kontrollstrukturen_I.ipynb\" target=\"_parent\"><img src=\"https://colab.research.google.com/assets/colab-badge.svg\" alt=\"Open In Colab\"/></a>"
      ]
    },
    {
      "cell_type": "markdown",
      "metadata": {
        "id": "PdkrwstcjTcu"
      },
      "source": [
        "**# Session 3**\n",
        "## Einführung in die Programmierung \n",
        "*Bank Kurse WiSe 2020/21 an der HWR Berlin*"
      ]
    },
    {
      "cell_type": "markdown",
      "metadata": {
        "id": "QVdXjBAsjXVY"
      },
      "source": [
        "# 3. Kontrollstrukturen I"
      ]
    },
    {
      "cell_type": "markdown",
      "metadata": {
        "id": "9U-aw4T7jbMu"
      },
      "source": [
        "## 3.1. If-Else Verzweigungen"
      ]
    },
    {
      "cell_type": "markdown",
      "metadata": {
        "id": "eGxbr_P9jhOU"
      },
      "source": [
        "### Aufgabe 3.1.1.\n",
        "\n"
      ]
    },
    {
      "cell_type": "markdown",
      "metadata": {
        "id": "e3xfAcb8jkyk"
      },
      "source": [
        "Schreiben Sie folgendes Programm: \n",
        "\n",
        "\n",
        "*   Legen Sie zwei Variablen a=2 und b=5 an\n",
        "*   Geben Sie das Maximum der beiden Zahlen aus\n",
        "\n"
      ]
    },
    {
      "cell_type": "code",
      "metadata": {
        "id": "Gx1cTdlPjDJW"
      },
      "source": [
        ""
      ],
      "execution_count": null,
      "outputs": []
    },
    {
      "cell_type": "markdown",
      "metadata": {
        "id": "uJJFLWj9io2Y"
      },
      "source": [
        "### Aufgabe 3.1.2."
      ]
    },
    {
      "cell_type": "markdown",
      "metadata": {
        "id": "6tmVZX5nfPY6"
      },
      "source": [
        "Schreiben Sie ein Python Programm, das das Maximum von drei Zahlen (a,b,c) ausgibt. Testen Sie Ihr Programm mit verschiedenen Zahlen."
      ]
    },
    {
      "cell_type": "code",
      "metadata": {
        "id": "Cc0VeboxkTZ1"
      },
      "source": [
        ""
      ],
      "execution_count": null,
      "outputs": []
    },
    {
      "cell_type": "markdown",
      "metadata": {
        "id": "HNTfLfLUlEjY"
      },
      "source": [
        "### Aufgabe 3.1.3."
      ]
    },
    {
      "cell_type": "markdown",
      "metadata": {
        "id": "yw4f2XtUlGjU"
      },
      "source": [
        "Schreiben Sie ein Programm, das testet, ob eine Zahl positiv, negativ oder gleich Null ist. Hierzu soll eine Ausgabe erzeugt werden."
      ]
    },
    {
      "cell_type": "code",
      "metadata": {
        "id": "8-AWK7oelN33"
      },
      "source": [
        ""
      ],
      "execution_count": null,
      "outputs": []
    },
    {
      "cell_type": "markdown",
      "metadata": {
        "id": "jP1LxpRsktV1"
      },
      "source": [
        "### Aufgabe 3.1.4."
      ]
    },
    {
      "cell_type": "markdown",
      "metadata": {
        "id": "-orLR9l_k3A5"
      },
      "source": [
        "Schreiben Sie ein Programm, das testet, ob eine Zahl ganzzahlig durch 3 teilbar ist. Hierzu lesen Sie eine Nutzereingabe ein und geben als Ausgabe jeweils den richtigen Hinweise aus:\n",
        "\n",
        "> Die Zahl ist durch 3 teilbar.<br>\n",
        "> Die Zahl ist nicht durch 3 teilbar.\n"
      ]
    },
    {
      "cell_type": "code",
      "metadata": {
        "id": "872282J8lXcf",
        "outputId": "1b887d3b-74f1-4880-8690-b4e26aed4055",
        "colab": {
          "base_uri": "https://localhost:8080/",
          "height": 52
        }
      },
      "source": [
        ""
      ],
      "execution_count": null,
      "outputs": [
        {
          "output_type": "stream",
          "text": [
            "Geben Sie eine ganze Zahl ein: 900\n",
            "Die Zahl ist durch 3 teilbar.\n"
          ],
          "name": "stdout"
        }
      ]
    },
    {
      "cell_type": "markdown",
      "metadata": {
        "id": "KveyhlRNkw0N"
      },
      "source": [
        "### Aufgabe 3.1.5."
      ]
    },
    {
      "cell_type": "markdown",
      "metadata": {
        "id": "cORUoKjNhL7N"
      },
      "source": [
        "Schreiben Sie ein Python Programm, das auf Eingabe eines Strings ausgibt, ob (neben Buchstaben und Zahlen) auch Sonderzeichen enthalten sind. Als Sonderzeichen gelten auch Leerzeichen.\n",
        "\n",
        ">**Beispiel:**<br>\n",
        ">Input: \"Hallo, mein Name ist Alice!\"<br>\n",
        ">Output: \"Sonderzeichen vorhanden\"<br><br>\n",
        ">Input: \"Alice123\"<br>\n",
        ">Output: \"Keine Sonderzeichen vorhanden\""
      ]
    },
    {
      "cell_type": "code",
      "metadata": {
        "id": "ic0g_sG-h20F",
        "outputId": "a0629d9f-daa9-4404-845a-18230d42ca3f",
        "colab": {
          "base_uri": "https://localhost:8080/",
          "height": 52
        }
      },
      "source": [
        ""
      ],
      "execution_count": null,
      "outputs": [
        {
          "output_type": "stream",
          "text": [
            "Input: HalloWelt\n",
            "Keine Sonderzeichen vorhanden\n"
          ],
          "name": "stdout"
        }
      ]
    },
    {
      "cell_type": "markdown",
      "metadata": {
        "id": "7slf3fyYmV6B"
      },
      "source": [
        "## 3.2. Aussagenlogik"
      ]
    },
    {
      "cell_type": "markdown",
      "metadata": {
        "id": "_-Hu3hnhmc2F"
      },
      "source": [
        "### Aufgabe 3.2.1. "
      ]
    },
    {
      "cell_type": "markdown",
      "metadata": {
        "id": "iB5u7Lu7im_9"
      },
      "source": [
        "Welchen Wahrheitswert kann den einzelnen Aussagen zugeordnet werden? Denken Sie zunächst darüber nach und prüfen Sie Ihre Ergebnisse mittels Programmierung."
      ]
    },
    {
      "cell_type": "markdown",
      "metadata": {
        "id": "zW7kuOFJmieK"
      },
      "source": [
        "\n",
        "g | h | Aussage\n",
        "--|--|--\n",
        "False|False|not g \n",
        "False|False|not g and h\n",
        "False|True| g and h\n",
        "True|False| g or h\n",
        "False|False|not g or not h\n",
        "False|False|not (g and h)\n",
        "True|True| g or not h\n",
        "True|True|g or h\n",
        "False|True|not g or not h and g\n",
        "True|False|(not g or not h) and (g or h)\n",
        "True|False|not g or not h and g or h\n",
        "True|False|g or h and h\n",
        "True|False|(g or h) and h\n"
      ]
    },
    {
      "cell_type": "code",
      "metadata": {
        "id": "9f-Its-QoiAN",
        "outputId": "f285ede4-86a1-43b7-bf17-3657d0782169",
        "colab": {
          "base_uri": "https://localhost:8080/",
          "height": 35
        }
      },
      "source": [
        "# Beispiel 1\n",
        "g, h = False, False\n",
        "print(not g)"
      ],
      "execution_count": null,
      "outputs": [
        {
          "output_type": "stream",
          "text": [
            "True\n"
          ],
          "name": "stdout"
        }
      ]
    },
    {
      "cell_type": "markdown",
      "metadata": {
        "id": "-YBdLro6l3NE"
      },
      "source": [
        "## 3.3. Komplexere If-Else Verzweigungen"
      ]
    },
    {
      "cell_type": "markdown",
      "metadata": {
        "id": "YdSjckKCmg0N"
      },
      "source": [
        "### Aufgabe 3.3.1. "
      ]
    },
    {
      "cell_type": "markdown",
      "metadata": {
        "id": "mbOsbsormAP-"
      },
      "source": [
        "Schreiben Sie ein Programm, das auf die Eingabe einer Jahreszahl einen Hinweis ausgibt, ob es sich um ein Schaltjahr handelt.\n",
        "\n",
        "> Ein Jahr Y ist ein Schaltjahr, wenn...<br>\n",
        "> Y durch 4 teilbar ist, aber nicht durch 100, oder <br>\n",
        "> Y durch 400 teilbar ist.\n"
      ]
    },
    {
      "cell_type": "code",
      "metadata": {
        "id": "lq_YQY7VmzFi",
        "outputId": "765570ed-4d60-466a-85c6-51ad4de68a47",
        "colab": {
          "base_uri": "https://localhost:8080/",
          "height": 52
        }
      },
      "source": [
        ""
      ],
      "execution_count": null,
      "outputs": [
        {
          "output_type": "stream",
          "text": [
            "Jahreszahl: 2020\n",
            "Schaltjahr!\n"
          ],
          "name": "stdout"
        }
      ]
    },
    {
      "cell_type": "markdown",
      "metadata": {
        "id": "W-jO2kA81X6I"
      },
      "source": [
        "### Aufgabe 3.3.2."
      ]
    },
    {
      "cell_type": "markdown",
      "metadata": {
        "id": "XftRTJAKm8vO"
      },
      "source": [
        "Erweitern Sie Ihr Programm aus 3.3.1. wiefolgt:\n",
        "*  Nach der Eingabe der Jahreszahl wird zunächst geprüft, ob es sich tatsächlich um eine (ganze) Zahl handelt.\n",
        "\n",
        "\n",
        "Wird diese Bedingung verletzt, so gibt das Programm den Text \"Ungültige Eingabe\" aus. "
      ]
    },
    {
      "cell_type": "code",
      "metadata": {
        "id": "aDIK8im3pgYg",
        "outputId": "7142d8ad-8be1-45d5-b15e-b270b425f268",
        "colab": {
          "base_uri": "https://localhost:8080/",
          "height": 52
        }
      },
      "source": [
        ""
      ],
      "execution_count": null,
      "outputs": [
        {
          "output_type": "stream",
          "text": [
            "Jahreszahl: 2020\n",
            "Schaltjahr!\n"
          ],
          "name": "stdout"
        }
      ]
    },
    {
      "cell_type": "markdown",
      "metadata": {
        "id": "kgif5qHr1cCu"
      },
      "source": [
        "### Aufgabe 3.3.3."
      ]
    },
    {
      "cell_type": "markdown",
      "metadata": {
        "id": "0gBeM1-Fi71-"
      },
      "source": [
        "Schreiben Sie ein Programm, das auf Eingabe einer Punktezahl in einer Klausur die finale Note ausgibt. Folgende Spezifizierungen gelten:\n",
        "\n",
        "*  Die minimale Anzahl an Punkten ist 0 und maximale Anzahl ist 100. Andere Werte führen zu der Ausgabe \"Ungültige Punktezahl\".\n",
        "*  Halbe Punkte sind möglich, andere Punktzahlen führen zu der Ausgabe \"Ungültige Punktezahl\"\n",
        "\n",
        "Punktezahl | Note\n",
        "--|--\n",
        "100 - 91|1\n",
        "90.5 - 76|2\n",
        "75.5 - 61|3\n",
        "60.5 - 50|4\n",
        "49.5 - 0|5\n",
        "\n",
        "**Hinweis:** Mit der Modulo-Operation\n",
        "\n",
        "\n",
        "```\n",
        "punkte % 1\n",
        "# Beispiel: 12.5%1 ist 0.5\n",
        "```\n",
        "\n",
        "erhalten Sie im Ergebnis die Nachkommastellen der Punkte. Nutzen Sie zum Float Vergleich ein selbst definiertes Epsilon.\n"
      ]
    },
    {
      "cell_type": "code",
      "metadata": {
        "id": "WIEs5-wTzrM6",
        "outputId": "cc1b3dbb-e801-4bfb-add9-434947004d05",
        "colab": {
          "base_uri": "https://localhost:8080/",
          "height": 52
        }
      },
      "source": [
        ""
      ],
      "execution_count": null,
      "outputs": [
        {
          "output_type": "stream",
          "text": [
            "Punktezahl: 64.5\n",
            "Note: 3\n"
          ],
          "name": "stdout"
        }
      ]
    }
  ]
}