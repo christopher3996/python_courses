{
  "nbformat": 4,
  "nbformat_minor": 0,
  "metadata": {
    "colab": {
      "provenance": [],
      "collapsed_sections": [
        "_-Hu3hnhmc2F"
      ],
      "authorship_tag": "ABX9TyOykjoxGL1+S0OXIWThi8Zc",
      "include_colab_link": true
    },
    "kernelspec": {
      "name": "python3",
      "display_name": "Python 3"
    }
  },
  "cells": [
    {
      "cell_type": "markdown",
      "metadata": {
        "id": "view-in-github",
        "colab_type": "text"
      },
      "source": [
        "<a href=\"https://colab.research.google.com/github/christopher3996/python_courses/blob/main/02_Kontrollstrukturen_I.ipynb\" target=\"_parent\"><img src=\"https://colab.research.google.com/assets/colab-badge.svg\" alt=\"Open In Colab\"/></a>"
      ]
    },
    {
      "cell_type": "markdown",
      "metadata": {
        "id": "PdkrwstcjTcu"
      },
      "source": [
        "# Einführung in die Python Programmierung\n",
        "*HWR Berlin, Christopher Gerling*"
      ]
    },
    {
      "cell_type": "markdown",
      "metadata": {
        "id": "QVdXjBAsjXVY"
      },
      "source": [
        "# 2. Kontrollstrukturen I"
      ]
    },
    {
      "cell_type": "markdown",
      "metadata": {
        "id": "9U-aw4T7jbMu"
      },
      "source": [
        "## 2.1. If-Else Verzweigungen"
      ]
    },
    {
      "cell_type": "markdown",
      "metadata": {
        "id": "eGxbr_P9jhOU"
      },
      "source": [
        "### Aufgabe 2.1.1.\n",
        "\n"
      ]
    },
    {
      "cell_type": "markdown",
      "metadata": {
        "id": "e3xfAcb8jkyk"
      },
      "source": [
        "Schreiben Sie ein Programm, das das Maximum von zwei Zahlen ausgibt. Nutzen Sie dafür **nicht** die eingebaute Funktion max(). Initialisieren Sie zwei Variablen a=2 und b=5 und geben Sie das Maximum der beiden Zahlen aus.\n",
        "\n"
      ]
    },
    {
      "cell_type": "code",
      "metadata": {
        "id": "Gx1cTdlPjDJW"
      },
      "source": [],
      "execution_count": null,
      "outputs": []
    },
    {
      "cell_type": "markdown",
      "metadata": {
        "id": "uJJFLWj9io2Y"
      },
      "source": [
        "### Aufgabe 2.1.2."
      ]
    },
    {
      "cell_type": "markdown",
      "metadata": {
        "id": "6tmVZX5nfPY6"
      },
      "source": [
        "Erweitern Sie Ihr Programm aus Aufgabe 2.1.1., sodass es das Maximum von drei Zahlen (a,b,c) bestimmt. Testen Sie Ihr Programm mit verschiedenen Zahlenkombinationen."
      ]
    },
    {
      "cell_type": "code",
      "metadata": {
        "id": "Cc0VeboxkTZ1"
      },
      "source": [],
      "execution_count": null,
      "outputs": []
    },
    {
      "cell_type": "markdown",
      "metadata": {
        "id": "HNTfLfLUlEjY"
      },
      "source": [
        "### Aufgabe 2.1.3."
      ]
    },
    {
      "cell_type": "markdown",
      "metadata": {
        "id": "yw4f2XtUlGjU"
      },
      "source": [
        "Erstellen Sie ein Programm, das eine Zahl (Variable *num*) überprüft und entsprechend ausgibt, ob sie positiv, negativ oder null ist."
      ]
    },
    {
      "cell_type": "code",
      "metadata": {
        "id": "8-AWK7oelN33"
      },
      "source": [],
      "execution_count": null,
      "outputs": []
    },
    {
      "cell_type": "markdown",
      "metadata": {
        "id": "jP1LxpRsktV1"
      },
      "source": [
        "### Aufgabe 2.1.4."
      ]
    },
    {
      "cell_type": "markdown",
      "metadata": {
        "id": "-orLR9l_k3A5"
      },
      "source": [
        "Schreiben Sie ein Programm, das den Benutzer auffordert, eine Zahl einzugeben und dann testet, ob diese Zahl ganzzahlig durch 3 teilbar ist. Geben Sie entsprechend einen der folgenden Hinweise aus:\n",
        "\n",
        "> Die Zahl ist durch 3 teilbar.<br>\n",
        "> Die Zahl ist nicht durch 3 teilbar.\n"
      ]
    },
    {
      "cell_type": "code",
      "metadata": {
        "id": "872282J8lXcf",
        "outputId": "1b887d3b-74f1-4880-8690-b4e26aed4055",
        "colab": {
          "base_uri": "https://localhost:8080/",
          "height": 52
        }
      },
      "source": [],
      "execution_count": null,
      "outputs": [
        {
          "output_type": "stream",
          "text": [
            "Geben Sie eine ganze Zahl ein: 900\n",
            "Die Zahl ist durch 3 teilbar.\n"
          ],
          "name": "stdout"
        }
      ]
    },
    {
      "cell_type": "markdown",
      "metadata": {
        "id": "KveyhlRNkw0N"
      },
      "source": [
        "### Aufgabe 2.1.5."
      ]
    },
    {
      "cell_type": "markdown",
      "metadata": {
        "id": "cORUoKjNhL7N"
      },
      "source": [
        "Schreiben Sie ein Programm, das überprüft, ob ein vom Benutzer eingegebener String Sonderzeichen enthält. Als Sonderzeichen gilt alles außer alphanumerischen Zeichen (also auch Leerzeichen). Geben Sie entsprechend einen der folgenden Hinweise aus:\n",
        "\n",
        ">**Beispiel:**<br>\n",
        ">Input: \"Hallo, mein Name ist Alice!\"<br>\n",
        ">Output: \"Sonderzeichen vorhanden\"<br><br>\n",
        ">Input: \"Alice123\"<br>\n",
        ">Output: \"Keine Sonderzeichen vorhanden\""
      ]
    },
    {
      "cell_type": "code",
      "metadata": {
        "id": "ic0g_sG-h20F",
        "outputId": "a0629d9f-daa9-4404-845a-18230d42ca3f",
        "colab": {
          "base_uri": "https://localhost:8080/",
          "height": 52
        }
      },
      "source": [],
      "execution_count": null,
      "outputs": [
        {
          "output_type": "stream",
          "text": [
            "Input: HalloWelt\n",
            "Keine Sonderzeichen vorhanden\n"
          ],
          "name": "stdout"
        }
      ]
    },
    {
      "cell_type": "markdown",
      "metadata": {
        "id": "YdSjckKCmg0N"
      },
      "source": [
        "### Aufgabe 2.1.6."
      ]
    },
    {
      "cell_type": "markdown",
      "metadata": {
        "id": "mbOsbsormAP-"
      },
      "source": [
        "Schreiben Sie ein Programm, das den Benutzer auffordert, eine Jahreszahl einzugeben und dann überprüft, ob es sich um ein Schaltjahr handelt. Ein Jahr ist ein Schaltjahr, wenn es durch 4 teilbar ist, aber nicht durch 100, oder wenn es durch 400 teilbar ist. Geben Sie entsprechend einen der folgenden Hinweise aus:\n",
        "\n",
        "> Schaltjahr!<br>\n",
        "> Kein Schaltjahr!\n"
      ]
    },
    {
      "cell_type": "code",
      "metadata": {
        "id": "lq_YQY7VmzFi",
        "outputId": "765570ed-4d60-466a-85c6-51ad4de68a47",
        "colab": {
          "base_uri": "https://localhost:8080/",
          "height": 52
        }
      },
      "source": [],
      "execution_count": null,
      "outputs": [
        {
          "output_type": "stream",
          "text": [
            "Jahreszahl: 2020\n",
            "Schaltjahr!\n"
          ],
          "name": "stdout"
        }
      ]
    },
    {
      "cell_type": "markdown",
      "metadata": {
        "id": "W-jO2kA81X6I"
      },
      "source": [
        "### Aufgabe 2.1.7."
      ]
    },
    {
      "cell_type": "markdown",
      "metadata": {
        "id": "XftRTJAKm8vO"
      },
      "source": [
        "Erweitern Sie Ihr Programm aus Aufgabe 2.1.7., indem Sie zuerst überprüfen, ob die eingegebene Jahreszahl tatsächlich eine ganze Zahl ist. Wenn dies nicht der Fall ist, geben Sie den Hinweis \"Ungültige Eingabe\" aus."
      ]
    },
    {
      "cell_type": "code",
      "metadata": {
        "id": "aDIK8im3pgYg",
        "outputId": "7142d8ad-8be1-45d5-b15e-b270b425f268",
        "colab": {
          "base_uri": "https://localhost:8080/",
          "height": 52
        }
      },
      "source": [],
      "execution_count": null,
      "outputs": [
        {
          "output_type": "stream",
          "text": [
            "Jahreszahl: 2020\n",
            "Schaltjahr!\n"
          ],
          "name": "stdout"
        }
      ]
    },
    {
      "cell_type": "markdown",
      "metadata": {
        "id": "7slf3fyYmV6B"
      },
      "source": [
        "## 2.2. Aussagenlogik"
      ]
    },
    {
      "cell_type": "markdown",
      "metadata": {
        "id": "_-Hu3hnhmc2F"
      },
      "source": [
        "### Aufgabe 2.2.1."
      ]
    },
    {
      "cell_type": "markdown",
      "metadata": {
        "id": "iB5u7Lu7im_9"
      },
      "source": [
        "Welchen Wahrheitswert kann den einzelnen Aussagen zugeordnet werden? Denken Sie zunächst darüber nach und prüfen Sie Ihre Ergebnisse mittels Programmierung."
      ]
    },
    {
      "cell_type": "markdown",
      "metadata": {
        "id": "zW7kuOFJmieK"
      },
      "source": [
        "\n",
        "g | h | Aussage\n",
        "--|--|--\n",
        "False|False|not g\n",
        "False|True| g and h\n",
        "True|False| g or h\n",
        "False|False|not (g and h)\n",
        "True|True| g or not h\n",
        "False|True|not g or not h and g\n",
        "True|False|g or h and h\n",
        "True|False|(g or h) and h\n"
      ]
    },
    {
      "cell_type": "code",
      "metadata": {
        "id": "9f-Its-QoiAN",
        "outputId": "f285ede4-86a1-43b7-bf17-3657d0782169",
        "colab": {
          "base_uri": "https://localhost:8080/",
          "height": 35
        }
      },
      "source": [
        "# Beispiel 1\n",
        "g, h = False, False\n",
        "print(not g)"
      ],
      "execution_count": null,
      "outputs": [
        {
          "output_type": "stream",
          "text": [
            "True\n"
          ],
          "name": "stdout"
        }
      ]
    },
    {
      "cell_type": "markdown",
      "source": [
        "## 2.3. Bonusübung: Palindrom-Prüfung"
      ],
      "metadata": {
        "id": "XFDODGWuwiXf"
      }
    },
    {
      "cell_type": "markdown",
      "source": [
        "Ein Palindrom ist ein Wort, eine Phrase, eine Zahl oder ein anderer Satz von Zeichen, der vorwärts und rückwärts gelesen dasselbe ergibt (wenn man Leerzeichen, Satzzeichen und Groß-/Kleinschreibung ignoriert). <br> Schreiben Sie ein Programm, das den Benutzer auffordert, einen String einzugeben. Das Programm sollte dann überprüfen, ob der eingegebene String ein Palindrom ist. Geben Sie entsprechend einen der folgenden Hinweise aus:\n",
        "\n",
        "> \"Der eingegebene String ist ein Palindrom!\"<br>\n",
        "> \"Der eingegebene String ist kein Palindrom.\""
      ],
      "metadata": {
        "id": "p4i2MQWUwqTh"
      }
    },
    {
      "cell_type": "code",
      "source": [],
      "metadata": {
        "id": "yoVaUgtQwphR",
        "outputId": "e0f3c82a-0fc2-4395-eede-fee54953fcf6",
        "colab": {
          "base_uri": "https://localhost:8080/"
        }
      },
      "execution_count": null,
      "outputs": [
        {
          "output_type": "stream",
          "name": "stdout",
          "text": [
            "Geben Sie einen String ein: Ein Eis esse sie nie.\n",
            "Der eingegebene String ist ein Palindrom!\n"
          ]
        }
      ]
    }
  ]
}