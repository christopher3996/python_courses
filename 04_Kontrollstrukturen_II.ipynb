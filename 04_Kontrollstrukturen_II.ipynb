{
  "nbformat": 4,
  "nbformat_minor": 0,
  "metadata": {
    "colab": {
      "provenance": [],
      "include_colab_link": true
    },
    "kernelspec": {
      "name": "python3",
      "display_name": "Python 3"
    }
  },
  "cells": [
    {
      "cell_type": "markdown",
      "metadata": {
        "id": "view-in-github",
        "colab_type": "text"
      },
      "source": [
        "<a href=\"https://colab.research.google.com/github/christopher3996/python_courses/blob/main/04_Kontrollstrukturen_II.ipynb\" target=\"_parent\"><img src=\"https://colab.research.google.com/assets/colab-badge.svg\" alt=\"Open In Colab\"/></a>"
      ]
    },
    {
      "cell_type": "markdown",
      "metadata": {
        "id": "Yao2pLdWVe0L"
      },
      "source": [
        "## Einführung in die Python Programmierung\n",
        "*HWR Berlin, Christopher Gerling*"
      ]
    },
    {
      "cell_type": "markdown",
      "metadata": {
        "id": "FBWY5kM4VjIJ"
      },
      "source": [
        "# 4. Kontrollstrukturen II"
      ]
    },
    {
      "cell_type": "markdown",
      "metadata": {
        "id": "5A7Q1xCqVnek"
      },
      "source": [
        "## 4.1. While Schleifen"
      ]
    },
    {
      "cell_type": "markdown",
      "metadata": {
        "id": "wh13fLbbbSEW"
      },
      "source": [
        "### Aufgabe 4.1.1."
      ]
    },
    {
      "cell_type": "markdown",
      "metadata": {
        "id": "-ZaDoXTdVvY1"
      },
      "source": [
        "Schreiben Sie ein Python Programm, das alle natürlichen Zahlen von 1 bis $n$ ausgibt. Legen Sie einen Wert für $n$ fest. Nutzen Sie eine *while* Schleife hierzu."
      ]
    },
    {
      "cell_type": "code",
      "metadata": {
        "id": "OiAsSBoJVT39",
        "outputId": "781dc119-298e-4be1-c867-d9c24bc3cb92",
        "colab": {
          "base_uri": "https://localhost:8080/",
          "height": 191
        }
      },
      "source": [
        "n = 10  # zum Beispiel 10\n"
      ],
      "execution_count": null,
      "outputs": [
        {
          "output_type": "stream",
          "text": [
            "1\n",
            "2\n",
            "3\n",
            "4\n",
            "5\n",
            "6\n",
            "7\n",
            "8\n",
            "9\n",
            "10\n"
          ],
          "name": "stdout"
        }
      ]
    },
    {
      "cell_type": "markdown",
      "metadata": {
        "id": "KaeXCIGLaXoK"
      },
      "source": [
        "### Aufgabe 4.1.2."
      ]
    },
    {
      "cell_type": "markdown",
      "metadata": {
        "id": "Hvm2mGSjbdt_"
      },
      "source": [
        "Schreiben Sie ein Python Programm, das alle natürlichen Zahlen von $n$ bis 1 absteigend ausgibt. Legen Sie einen Wert für $n$ fest. Nutzen Sie eine *while* Schleife hierzu."
      ]
    },
    {
      "cell_type": "code",
      "metadata": {
        "id": "XG6iTOsLbrDG",
        "outputId": "d5f0a90d-719f-4908-ba60-de96c90e47db",
        "colab": {
          "base_uri": "https://localhost:8080/",
          "height": 191
        }
      },
      "source": [
        "n = 10  # zum Beispiel 10\n"
      ],
      "execution_count": null,
      "outputs": [
        {
          "output_type": "stream",
          "text": [
            "10\n",
            "9\n",
            "8\n",
            "7\n",
            "6\n",
            "5\n",
            "4\n",
            "3\n",
            "2\n",
            "1\n"
          ],
          "name": "stdout"
        }
      ]
    },
    {
      "cell_type": "markdown",
      "metadata": {
        "id": "308A9Aepf1XB"
      },
      "source": [
        "### Aufgabe 4.1.3."
      ]
    },
    {
      "cell_type": "markdown",
      "metadata": {
        "id": "rG0fZTorb-ZM"
      },
      "source": [
        "Schreiben Sie ein Python Programm, das alle geraden Zahlen von einschließlich 0 bis 100 ausgibt. (while Schleife)"
      ]
    },
    {
      "cell_type": "code",
      "metadata": {
        "id": "mDXPURuJcMGV"
      },
      "source": [],
      "execution_count": null,
      "outputs": []
    },
    {
      "cell_type": "markdown",
      "metadata": {
        "id": "S4CMbsqAf24n"
      },
      "source": [
        "### Aufgabe 4.1.4."
      ]
    },
    {
      "cell_type": "markdown",
      "metadata": {
        "id": "QdHG7wjkhi3I"
      },
      "source": [
        "Schreiben Sie ein Programm, das vom Nutzer eine ganze Zahl einliest und für diese Zahl das \"kleine Einmaleins\" ausgibt. (while Schleife)\n",
        "\n",
        ">**Beispiel:**<br>\n",
        ">Zahl: 4<br>\n",
        ">1 * 4 = 4<br>\n",
        ">2 * 4 = 8<br>\n",
        ">3 * 4 = 12<br>\n",
        ">...<br>\n",
        ">10 * 4 = 40<br>"
      ]
    },
    {
      "cell_type": "code",
      "metadata": {
        "id": "FQ1b3RwdikDK",
        "outputId": "f1357b13-c917-487e-9ccd-9d22909db03a",
        "colab": {
          "base_uri": "https://localhost:8080/",
          "height": 208
        }
      },
      "source": [],
      "execution_count": null,
      "outputs": [
        {
          "output_type": "stream",
          "text": [
            "Zahl: 9\n",
            "1 * 9 = 9\n",
            "2 * 9 = 18\n",
            "3 * 9 = 27\n",
            "4 * 9 = 36\n",
            "5 * 9 = 45\n",
            "6 * 9 = 54\n",
            "7 * 9 = 63\n",
            "8 * 9 = 72\n",
            "9 * 9 = 81\n",
            "10 * 9 = 90\n"
          ],
          "name": "stdout"
        }
      ]
    },
    {
      "cell_type": "markdown",
      "metadata": {
        "id": "KPwiB5fGjfSZ"
      },
      "source": [
        "### Aufgabe 4.1.5."
      ]
    },
    {
      "cell_type": "markdown",
      "metadata": {
        "id": "hj2tx1-NGoNI"
      },
      "source": [
        "Schreiben Sie ein Python Programm, das die Zahlen von 1 bis 10 ausgibt, ohne die 5 und die 7. (While Schleife)"
      ]
    },
    {
      "cell_type": "code",
      "metadata": {
        "id": "mFE809HwG0bk",
        "outputId": "98718379-b91e-43c8-d697-1c5fa31fdb19",
        "colab": {
          "base_uri": "https://localhost:8080/",
          "height": 156
        }
      },
      "source": [],
      "execution_count": null,
      "outputs": [
        {
          "output_type": "stream",
          "text": [
            "1\n",
            "2\n",
            "3\n",
            "4\n",
            "6\n",
            "8\n",
            "9\n",
            "10\n"
          ],
          "name": "stdout"
        }
      ]
    },
    {
      "cell_type": "markdown",
      "metadata": {
        "id": "Q6eaywepHiud"
      },
      "source": [
        "## 4.2. For Schleifen"
      ]
    },
    {
      "cell_type": "markdown",
      "metadata": {
        "id": "O2QfCTFLHkR9"
      },
      "source": [
        "### Aufgabe 4.2.1."
      ]
    },
    {
      "cell_type": "markdown",
      "metadata": {
        "id": "gmufrQ8yH1At"
      },
      "source": [
        "Initialisieren Sie die folgende Liste mit allen Mitarbeitenden, die heute Geburtstag haben.\n",
        "\n",
        "\n",
        "```\n",
        "birthday = [\"Anna\", \"Berta\", \"Caesar\", \"Dora\", \"Emil\"]\n",
        "```\n",
        "\n",
        "\n",
        "Geben Sie für jeden Mitarbeitenden eine Grußbotschaft untereinander aus. (For Schleife)\n",
        "\n",
        ">Happy Birthday, Anna!<br>\n",
        ">Happy Birthday, Berta!<br>\n",
        ">Happy Birthday, Caesar!<br>\n",
        ">Happy Birthday, Dora!<br>\n",
        ">Happy Birthday, Emil!\n",
        "\n"
      ]
    },
    {
      "cell_type": "code",
      "metadata": {
        "id": "-1BcoGKzHz-K",
        "outputId": "84f7210a-94eb-4e52-92ac-a80d266a8011",
        "colab": {
          "base_uri": "https://localhost:8080/",
          "height": 104
        }
      },
      "source": [
        "birthday = [\"Anna\", \"Berta\", \"Caesar\", \"Dora\", \"Emil\"]\n"
      ],
      "execution_count": null,
      "outputs": [
        {
          "output_type": "stream",
          "text": [
            "Happy Birthday, Anna!\n",
            "Happy Birthday, Berta!\n",
            "Happy Birthday, Caesar!\n",
            "Happy Birthday, Dora!\n",
            "Happy Birthday, Emil!\n"
          ],
          "name": "stdout"
        }
      ]
    },
    {
      "cell_type": "markdown",
      "metadata": {
        "id": "-ZJo55CiMRBK"
      },
      "source": [
        "### Aufgabe 4.2.2."
      ]
    },
    {
      "cell_type": "markdown",
      "metadata": {
        "id": "cN61SFF0L7Ya"
      },
      "source": [
        "Geben Sie für die Liste aus Aufgabe 4.2.1. mittels For-Schleife die Anzahl der Elemente aus, ohne die eingebaute Funktion len() oder count() etc. zu verwenden."
      ]
    },
    {
      "cell_type": "code",
      "metadata": {
        "id": "Inj7Hb07MH-D",
        "outputId": "04cbf32c-890c-49d3-a55d-a2cd94ec6c48",
        "colab": {
          "base_uri": "https://localhost:8080/",
          "height": 35
        }
      },
      "source": [],
      "execution_count": null,
      "outputs": [
        {
          "output_type": "stream",
          "text": [
            "5\n"
          ],
          "name": "stdout"
        }
      ]
    },
    {
      "cell_type": "markdown",
      "metadata": {
        "id": "mg3-2souMTpm"
      },
      "source": [
        "### Aufgabe 4.2.3."
      ]
    },
    {
      "cell_type": "markdown",
      "metadata": {
        "id": "U-qvsUOCJQc2"
      },
      "source": [
        "Geben Sie mittels einer For-Schleife und der Range-Funktion die Zahlen von 1 bis 10 aus, aber nicht die 5 und die 7."
      ]
    },
    {
      "cell_type": "code",
      "metadata": {
        "id": "UqabmjrtJo9f",
        "outputId": "e47318e0-d336-4ffb-eda0-5ffb148a805b",
        "colab": {
          "base_uri": "https://localhost:8080/",
          "height": 156
        }
      },
      "source": [],
      "execution_count": null,
      "outputs": [
        {
          "output_type": "stream",
          "text": [
            "1\n",
            "2\n",
            "3\n",
            "4\n",
            "6\n",
            "8\n",
            "9\n",
            "10\n"
          ],
          "name": "stdout"
        }
      ]
    },
    {
      "cell_type": "markdown",
      "metadata": {
        "id": "CP8WybEHQgvC"
      },
      "source": [
        "## 4.3. Bonusaufgaben\n",
        "(für alle, die schon fertig sind)"
      ]
    },
    {
      "cell_type": "markdown",
      "source": [
        "### Aufgabe 4.3.1."
      ],
      "metadata": {
        "id": "9WT7uklcKpFG"
      }
    },
    {
      "cell_type": "markdown",
      "metadata": {
        "id": "rwc5TidbdA95"
      },
      "source": [
        "Schreiben Sie ein Programm, das den Nutzer auffordert, ein Passwort einzugeben. Das richtige Passwort (\"*Python*\") ist dabei in einer Variablen gespeichert. Der Nutzer wird so oft wiederholt gefragt, bis er das korrekte Passwort eingegeben hat. Dann erscheint die Meldung \"Zutritt gewährt!\".\n",
        "\n",
        ">**Beispiel:**<br>\n",
        ">Passwort: Passwort123<br>\n",
        ">Passwort: HWR2020<br>\n",
        ">Passwort: Python<br>\n",
        ">Zutritt gewährt!"
      ]
    },
    {
      "cell_type": "code",
      "metadata": {
        "id": "ptgqdKhSfL4E",
        "outputId": "8dc861cb-e51a-4443-9731-894800898457",
        "colab": {
          "base_uri": "https://localhost:8080/",
          "height": 87
        }
      },
      "source": [],
      "execution_count": null,
      "outputs": [
        {
          "output_type": "stream",
          "text": [
            "Passwort: Hallo\n",
            "Passwort: 123\n",
            "Passwort: Python\n",
            "Zutritt gewährt!\n"
          ],
          "name": "stdout"
        }
      ]
    },
    {
      "cell_type": "markdown",
      "source": [
        "### Aufgabe 4.3.2."
      ],
      "metadata": {
        "id": "j-0Szl3dKtEx"
      }
    },
    {
      "cell_type": "markdown",
      "metadata": {
        "id": "-50kheARQxWz"
      },
      "source": [
        "Schreiben Sie ein Programm in Python, das reele Zahlen (Integer und Floats) als Input akzeptiert. Die Eingabe einer Zahl wird mit Enter bestätigt und die Zahl gespeichert. Sobald der Nutzer die Enter-Taste drückt, ohne eine (weitere) Zahl eingegeben zu haben, gibt das Programm die Anzahl, die Summe und den Mittelwert der eingegebenen Zahlen aus.\n",
        "\n",
        ">Zahl: 5<br>\n",
        ">Zahl: 7<br>\n",
        ">Zahl:<br><br>\n",
        ">Anzahl: 2<br>\n",
        ">Summe: 12.0<br>\n",
        ">Mittelwert: 6.0"
      ]
    },
    {
      "cell_type": "code",
      "metadata": {
        "id": "JSYMrNFPSByU",
        "outputId": "3e6635a3-a4f3-4fb7-f4be-dbe6427fe0bb",
        "colab": {
          "base_uri": "https://localhost:8080/",
          "height": 191
        }
      },
      "source": [],
      "execution_count": null,
      "outputs": [
        {
          "output_type": "stream",
          "text": [
            "Zahl: 1\n",
            "Zahl: 2\n",
            "Zahl: 3\n",
            "Zahl: 4\n",
            "Zahl: 5\n",
            "Zahl: \n",
            "\n",
            "Anzahl: 5\n",
            "Summe: 15.0\n",
            "Mittelwert: 3.0\n"
          ],
          "name": "stdout"
        }
      ]
    }
  ]
}