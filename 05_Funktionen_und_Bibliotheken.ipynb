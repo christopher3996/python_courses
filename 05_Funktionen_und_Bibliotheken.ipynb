{
  "nbformat": 4,
  "nbformat_minor": 0,
  "metadata": {
    "colab": {
      "provenance": [],
      "include_colab_link": true
    },
    "kernelspec": {
      "name": "python3",
      "display_name": "Python 3"
    }
  },
  "cells": [
    {
      "cell_type": "markdown",
      "metadata": {
        "id": "view-in-github",
        "colab_type": "text"
      },
      "source": [
        "<a href=\"https://colab.research.google.com/github/christopher3996/python_courses/blob/main/05_Funktionen_und_Bibliotheken.ipynb\" target=\"_parent\"><img src=\"https://colab.research.google.com/assets/colab-badge.svg\" alt=\"Open In Colab\"/></a>"
      ]
    },
    {
      "cell_type": "markdown",
      "metadata": {
        "id": "587LUh50y14Q"
      },
      "source": [
        "## Einführung in die Programmierung\n",
        "*HWR Berlin, Christopher Gerling*"
      ]
    },
    {
      "cell_type": "markdown",
      "metadata": {
        "id": "Z0Q5TcxOy38g"
      },
      "source": [
        "# 5. Funktionen und Bibliotheken"
      ]
    },
    {
      "cell_type": "markdown",
      "metadata": {
        "id": "JY0s9zxr6eqf"
      },
      "source": [
        "## 5.1. Einfache Funktionen"
      ]
    },
    {
      "cell_type": "markdown",
      "metadata": {
        "id": "GnbN8p-36bxG"
      },
      "source": [
        "### Aufgabe 5.1.1."
      ]
    },
    {
      "cell_type": "markdown",
      "metadata": {
        "id": "gp6DSjATzRAP"
      },
      "source": [
        "Schreiben Sie eine Python Funktion, die das Maximum aus drei Zahlen zurückgibt. Testen Sie ihre Funktion mit beliebigen Zahlen."
      ]
    },
    {
      "cell_type": "code",
      "metadata": {
        "id": "yfzkj3KL1Cc0",
        "outputId": "1c3876b1-ed09-47a8-ba80-7daa76266302",
        "colab": {
          "base_uri": "https://localhost:8080/",
          "height": 35
        }
      },
      "source": [],
      "execution_count": null,
      "outputs": [
        {
          "output_type": "execute_result",
          "data": {
            "text/plain": [
              "4"
            ]
          },
          "metadata": {
            "tags": []
          },
          "execution_count": 6
        }
      ]
    },
    {
      "cell_type": "markdown",
      "metadata": {
        "id": "4H2YY9mO6ykZ"
      },
      "source": [
        "### Aufgabe 5.1.2."
      ]
    },
    {
      "cell_type": "markdown",
      "metadata": {
        "id": "ueRDUFf6zail"
      },
      "source": [
        "Schreiben Sie eine Python Funktion, die als Eingabe ein Objekt vom Typ \"List\" aufnimmt und die Differenz zwischen dem maximalen Wert und dem minimalen Wert zurückgibt.\n",
        "\n",
        "> Nutzen Sie zum Testen eine Liste mit folgenden Zahlen: 4, 9, 0, 11, -5"
      ]
    },
    {
      "cell_type": "code",
      "metadata": {
        "id": "BWEAkDVD1Ojj",
        "outputId": "991d7e21-15dc-4907-8679-b83afc6d1f15",
        "colab": {
          "base_uri": "https://localhost:8080/",
          "height": 35
        }
      },
      "source": [],
      "execution_count": null,
      "outputs": [
        {
          "output_type": "execute_result",
          "data": {
            "text/plain": [
              "16"
            ]
          },
          "metadata": {
            "tags": []
          },
          "execution_count": 5
        }
      ]
    },
    {
      "cell_type": "markdown",
      "metadata": {
        "id": "nZvUwo2P60Ea"
      },
      "source": [
        "### Aufgabe 5.1.3."
      ]
    },
    {
      "cell_type": "markdown",
      "metadata": {
        "id": "TtbABoA442oi"
      },
      "source": [
        "Schreiben Sie eine Funktion *futureValue*, die auf Eingabe von einem Anfangskapital $K_0$, einer Verzinsung $i$ und einer Laufzeit $t$ in Jahren das Endkapital $K_t$ ermittelt. Alle Parameter sind optional und werden jeweils standardmäßig auf 0 gesetzt, falls nicht spezifiziert.\n",
        "\n",
        "<center>$K_t = K_0 * (1+i)^{t} $</center>\n",
        "\n",
        "Wenn Sie z.B. heute 1000 EUR bei 7% Verzinsung anlegen, beträgt Ihr Endkapital nach 10 Jahren 1967,15 EUR."
      ]
    },
    {
      "cell_type": "code",
      "metadata": {
        "id": "ndRb2gRr3rov"
      },
      "source": [],
      "execution_count": null,
      "outputs": []
    },
    {
      "cell_type": "code",
      "metadata": {
        "id": "3zlYU1DY4_LD",
        "outputId": "d867748f-6f77-4ebb-c564-945af21d76c3",
        "colab": {
          "base_uri": "https://localhost:8080/",
          "height": 35
        }
      },
      "source": [
        "futureValue(1000, 0.07, 10)"
      ],
      "execution_count": null,
      "outputs": [
        {
          "output_type": "execute_result",
          "data": {
            "text/plain": [
              "1967.1513572895665"
            ]
          },
          "metadata": {
            "tags": []
          },
          "execution_count": 30
        }
      ]
    },
    {
      "cell_type": "markdown",
      "metadata": {
        "id": "jyY8lftvZZzy"
      },
      "source": [
        "## 5.2. Bibliotheken\n"
      ]
    },
    {
      "cell_type": "markdown",
      "source": [
        "### Aufgabe 5.2.1."
      ],
      "metadata": {
        "id": "BVsEXWeDTNX4"
      }
    },
    {
      "cell_type": "markdown",
      "source": [
        "Importieren Sie die **math** Bibliothek und verwenden Sie die Methode *sqrt* aus dieser Bibliothek, um die Quadratwurzel von 256 zu berechnen."
      ],
      "metadata": {
        "id": "fkwp2fkpS86e"
      }
    },
    {
      "cell_type": "code",
      "source": [],
      "metadata": {
        "id": "v7e5-F96URY-"
      },
      "execution_count": null,
      "outputs": []
    },
    {
      "cell_type": "markdown",
      "source": [
        "### Aufgabe 5.2.2."
      ],
      "metadata": {
        "id": "5lVcOE-IWBJA"
      }
    },
    {
      "cell_type": "markdown",
      "source": [
        "Importieren Sie die **datetime** Bibliothek und verwenden Sie die Methode *today* aus dieser Bibliothek, um das aktuelle Datum zu erhalten. Können Sie eine schöne Ausgabe hiervon erzeugen?"
      ],
      "metadata": {
        "id": "QFHsSL-cURvK"
      }
    },
    {
      "cell_type": "code",
      "source": [],
      "metadata": {
        "id": "GRoPnMw5auhg"
      },
      "execution_count": null,
      "outputs": []
    },
    {
      "cell_type": "markdown",
      "source": [
        "## 5.3. Anwendungsaufgaben"
      ],
      "metadata": {
        "id": "cXe51bNBdZn0"
      }
    },
    {
      "cell_type": "markdown",
      "source": [
        "### Aufgabe 5.3.1."
      ],
      "metadata": {
        "id": "fWLj2jb_al0O"
      }
    },
    {
      "cell_type": "markdown",
      "source": [
        "Gegeben sei eine bestimmte Anzahl von Jahren, die in der Zukunft liegen. Ihre Aufgabe ist es, eine Funktion zu erstellen, die das zukünftige Jahr berechnet und zurückgibt.\n",
        "\n",
        "**Anforderungen**:\n",
        "\n",
        "1. Erstellen Sie eine Funktion mit dem Namen `berechne_zukuenftiges_jahr`.\n",
        "2. Die Funktion sollte einen einzigen Parameter `anzahl_jahre` vom Typ Integer akzeptieren. Dieser Parameter gibt an, wie viele Jahre in der Zukunft vom aktuellen Jahr gerechnet werden sollen.\n",
        "3. Die Funktion soll das aktuelle Jahr ermitteln und dieses zu `anzahl_jahre` addieren und das resultierende Jahr als Integer zurückgeben.\n",
        "4. Wenn die Funktion beispielsweise mit `anzahl_jahre = 5` aufgerufen wird und das aktuelle Jahr 2023 ist, sollte die Funktion 2028 zurückgeben.\n",
        "\n",
        "**Hinweis**: Sie können das aktuelle Jahr in Python mithilfe des `datetime` Moduls ermitteln.\n",
        "\n",
        "\n"
      ],
      "metadata": {
        "id": "q5yNZD-harYt"
      }
    },
    {
      "cell_type": "code",
      "source": [],
      "metadata": {
        "id": "9oJg7XtlarOU"
      },
      "execution_count": null,
      "outputs": []
    },
    {
      "cell_type": "markdown",
      "source": [
        "### Aufgabe 5.3.2.\n",
        "\n",
        "Ein zentrales Konzept der Finanzmathematik ist der Zinseszins. Ein Anfangskapital \\(K_0\\) wächst über die Zeit durch Zinsen. Ein interessanter Aspekt ist: Wie viele Jahre dauert es, bis sich ein Anfangskapital verdoppelt hat, wenn es zu einem festen Zinssatz angelegt wird?\n",
        "\n",
        "Die Formel für den Zinseszins, wenn nur eine Zinsperiode pro Jahr vorkommt, ist:\n",
        "\n",
        "$K_t = K_0 \\times (1+i)^{t}$\n",
        "\n",
        "wobei:\n",
        "- \\( K_t \\) das Endkapital nach \\( t \\) Jahren ist,\n",
        "- \\( K_0 \\) das Anfangskapital,\n",
        "- \\( i \\) die Jahreszinsrate (z. B. 0,05 für 5%) und\n",
        "- \\( t \\) die Laufzeit in Jahren.\n",
        "\n",
        "Um herauszufinden, wie lange es dauert, das Anfangskapital \\( K_0 \\) zu verdoppeln, setzen wir \\( K_t \\) auf \\( 2K_0 \\) und lösen die Gleichung nach \\( t \\) auf.\n",
        "\n",
        "Die umgestellte Formel zur Bestimmung der Verdoppelungszeit unter Berücksichtigung des Zinses lautet:\n",
        "\n",
        "$ t = \\frac{\\ln(2)}{\\ln(1 + i)} $\n",
        "\n",
        "**Ihre Aufgabe:**\n",
        "\n",
        "1. Importieren Sie die benötigten Funktionen aus der `math`-Bibliothek.\n",
        "2. Schreiben Sie eine Funktion `verdoppelungszeit(K_0, i)`, die die Anzahl der Jahre zurückgibt, die benötigt werden, um das Anfangskapital \\( K_0 \\) bei einer gegebenen Zinsrate \\( i \\) zu verdoppeln.\n",
        "3. Testen Sie die Funktion mit einem Anfangskapital von 1000€ und einer Zinsrate von 5%. Wie viele Jahre dauert es, bis sich das Kapital verdoppelt hat?\n",
        "4. In der vorherigen Aufgabe wurde die Funktion `berechne_zukuenftiges_jahr` definiert. Nutzen Sie diese, um Ihre Ausgabe um das Jahr zu ergänzen, wann sich das Kapital verdoppelt haben wird.\n"
      ],
      "metadata": {
        "id": "YU3aD3u7WeGa"
      }
    },
    {
      "cell_type": "code",
      "source": [],
      "metadata": {
        "id": "QfHBwwerdqbu"
      },
      "execution_count": null,
      "outputs": []
    }
  ]
}