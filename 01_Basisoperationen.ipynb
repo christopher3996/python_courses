{
  "nbformat": 4,
  "nbformat_minor": 0,
  "metadata": {
    "colab": {
      "provenance": [],
      "authorship_tag": "ABX9TyNgDeZef0FkLD0Ak8oOYAMA",
      "include_colab_link": true
    },
    "kernelspec": {
      "name": "python3",
      "display_name": "Python 3"
    }
  },
  "cells": [
    {
      "cell_type": "markdown",
      "metadata": {
        "id": "view-in-github",
        "colab_type": "text"
      },
      "source": [
        "<a href=\"https://colab.research.google.com/github/christopher3996/python_courses/blob/main/01_Basisoperationen.ipynb\" target=\"_parent\"><img src=\"https://colab.research.google.com/assets/colab-badge.svg\" alt=\"Open In Colab\"/></a>"
      ]
    },
    {
      "cell_type": "markdown",
      "metadata": {
        "id": "HVbgqBZeBC4-"
      },
      "source": [
        "# Einführung in die Python Programmierung\n",
        "*HWR Berlin, Christopher Gerling*"
      ]
    },
    {
      "cell_type": "markdown",
      "metadata": {
        "id": "oJD_my-2BG1z"
      },
      "source": [
        "# 1. Basisoperationen"
      ]
    },
    {
      "cell_type": "markdown",
      "metadata": {
        "id": "cMPVsT6BBbms"
      },
      "source": [
        "## 1.1. Ein- und Ausgaben"
      ]
    },
    {
      "cell_type": "markdown",
      "metadata": {
        "id": "ksd9tI9Lhlu7"
      },
      "source": [
        "### Aufgabe 1.1.1."
      ]
    },
    {
      "cell_type": "markdown",
      "metadata": {
        "id": "TYlPS-wVRpLl"
      },
      "source": [
        "Erstellen Sie ein Programm, das den Nutzer nach seinem Namen fragt und dann \"Hallo Name\" ausgibt."
      ]
    },
    {
      "cell_type": "code",
      "metadata": {
        "id": "JDEQ32H5BgCf",
        "outputId": "c56eed2d-0e58-478b-f00d-434374c404c4",
        "colab": {
          "base_uri": "https://localhost:8080/",
          "height": 52
        }
      },
      "source": [],
      "execution_count": null,
      "outputs": [
        {
          "output_type": "stream",
          "text": [
            "Wie heißt du? Alice\n",
            "Hallo Alice\n"
          ],
          "name": "stdout"
        }
      ]
    },
    {
      "cell_type": "markdown",
      "metadata": {
        "id": "a8AIw7VuhjPZ"
      },
      "source": [
        "### Aufgabe 1.1.2."
      ]
    },
    {
      "cell_type": "markdown",
      "metadata": {
        "id": "AjLNfObyTW9K"
      },
      "source": [
        "Fordern Sie den Nutzer auf, zuerst seinen Vornamen und dann seinen Nachnamen einzugeben. Nutzen Sie hierfür zwei Variablen. Geben Sie den vollen Namen im Format \"Nachname, Vorname\" aus."
      ]
    },
    {
      "cell_type": "code",
      "metadata": {
        "id": "HMZp_D2eUA4Q"
      },
      "source": [],
      "execution_count": null,
      "outputs": []
    },
    {
      "cell_type": "markdown",
      "metadata": {
        "id": "UR84jd5LhgXl"
      },
      "source": [
        "### Aufgabe 1.1.3."
      ]
    },
    {
      "cell_type": "markdown",
      "metadata": {
        "id": "8jiob_ShWZuW"
      },
      "source": [
        "Fordern Sie den Nutzer auf, sein Alter einzugeben. Geben Sie dann den Datentyp der eingegebenen Daten aus. Was fällt Ihnen dabei auf?"
      ]
    },
    {
      "cell_type": "code",
      "metadata": {
        "id": "IupXZEQaWluo"
      },
      "source": [],
      "execution_count": null,
      "outputs": []
    },
    {
      "cell_type": "markdown",
      "metadata": {
        "id": "FwUWN_Y8W8-o"
      },
      "source": [
        "## 1.2. String Operationen"
      ]
    },
    {
      "cell_type": "markdown",
      "metadata": {
        "id": "zDWJKtDkhagX"
      },
      "source": [
        "### Aufgabe 1.2.1."
      ]
    },
    {
      "cell_type": "markdown",
      "metadata": {
        "id": "FSF2Z92PWK0_"
      },
      "source": [
        "Initialisieren Sie eine Variable *hwr* mit:\n",
        "\n",
        "```\n",
        "hwr = \"Hochschule für Wirtschaft und Recht Berlin\"\n",
        "```\n",
        "Die folgenden Aufgaben bauen auf dieser auf. Weisen Sie der Variablen daher keine anderen Werte zu.\n"
      ]
    },
    {
      "cell_type": "code",
      "metadata": {
        "id": "YNT7_AvNXzim"
      },
      "source": [],
      "execution_count": null,
      "outputs": []
    },
    {
      "cell_type": "markdown",
      "metadata": {
        "id": "uEbJMO_lhYKb"
      },
      "source": [
        "### Aufgabe 1.2.2."
      ]
    },
    {
      "cell_type": "markdown",
      "metadata": {
        "id": "urpXYUj6YMgQ"
      },
      "source": [
        "Geben Sie die Länge der Zeichenkette aus."
      ]
    },
    {
      "cell_type": "code",
      "metadata": {
        "id": "8J1G3E1sYVvQ"
      },
      "source": [],
      "execution_count": null,
      "outputs": []
    },
    {
      "cell_type": "markdown",
      "metadata": {
        "id": "x0o9NWQLhV4b"
      },
      "source": [
        "### Aufgabe 1.2.3."
      ]
    },
    {
      "cell_type": "markdown",
      "metadata": {
        "id": "khsr7vHzYgR4"
      },
      "source": [
        "Lassen Sie sich den String zunächst in Kleinbuchstaben und dann in Großbuchstaben ausgeben."
      ]
    },
    {
      "cell_type": "code",
      "metadata": {
        "id": "EEr0aMYSY1E_",
        "outputId": "bacf07f8-c172-44e9-9a8f-3051972f7718",
        "colab": {
          "base_uri": "https://localhost:8080/",
          "height": 52
        }
      },
      "source": [],
      "execution_count": null,
      "outputs": [
        {
          "output_type": "stream",
          "text": [
            "hochschule für wirtschaft und recht berlin\n",
            "HOCHSCHULE FÜR WIRTSCHAFT UND RECHT BERLIN\n"
          ],
          "name": "stdout"
        }
      ]
    },
    {
      "cell_type": "markdown",
      "metadata": {
        "id": "ctsYNKAdhSg2"
      },
      "source": [
        "### Aufgabe 1.2.4."
      ]
    },
    {
      "cell_type": "markdown",
      "metadata": {
        "id": "7X73pcjab7FP"
      },
      "source": [
        "Geben Sie die ersten 10 Zeichen der Variablen hwr aus."
      ]
    },
    {
      "cell_type": "code",
      "metadata": {
        "id": "Jpm5VAqGb4cm"
      },
      "source": [],
      "execution_count": null,
      "outputs": []
    },
    {
      "cell_type": "markdown",
      "metadata": {
        "id": "Y8jho1KmhQT9"
      },
      "source": [
        "### Aufgabe 1.2.5."
      ]
    },
    {
      "cell_type": "markdown",
      "metadata": {
        "id": "R_sEOvy9cRH6"
      },
      "source": [
        "Geben Sie das letzte Zeichen der Variablen hwr aus."
      ]
    },
    {
      "cell_type": "code",
      "metadata": {
        "id": "7rBf5YCycZUG"
      },
      "source": [],
      "execution_count": null,
      "outputs": []
    },
    {
      "cell_type": "markdown",
      "metadata": {
        "id": "LHZ03caOhNvj"
      },
      "source": [
        "### Aufgabe 1.2.6."
      ]
    },
    {
      "cell_type": "markdown",
      "metadata": {
        "id": "Ue3vrEvicjVW"
      },
      "source": [
        "Geben Sie nur jedes zweite Zeichen aus. **Hinweis:** Suchen Sie bei Google nach \"Python String Stride\"."
      ]
    },
    {
      "cell_type": "code",
      "metadata": {
        "id": "k7huvQS-crAV",
        "outputId": "72de2727-97b0-47f4-eb41-f18b678e8ceb",
        "colab": {
          "base_uri": "https://localhost:8080/",
          "height": 35
        }
      },
      "source": [],
      "execution_count": null,
      "outputs": [
        {
          "output_type": "execute_result",
          "data": {
            "application/vnd.google.colaboratory.intrinsic+json": {
              "type": "string"
            },
            "text/plain": [
              "'Hcshl ü itcatudRctBri'"
            ]
          },
          "metadata": {
            "tags": []
          },
          "execution_count": 28
        }
      ]
    },
    {
      "cell_type": "markdown",
      "metadata": {
        "id": "C1ttpn87hJO1"
      },
      "source": [
        "### Aufgabe 1.2.7."
      ]
    },
    {
      "cell_type": "markdown",
      "metadata": {
        "id": "RhOTHiMXZBpP"
      },
      "source": [
        "Ersetzen Sie \"Berlin\" mit \"Bärlin\" mit folgendem Code:\n",
        "> hwr.replace(\"Berlin\", \"Bärlin\")\n",
        "\n",
        "Überprüfen Sie im Anschluss die Variable hwr. Hat sich diese verändert? Wenn nein, versuchen Sie den neuen Wert der Variablen hwr zuzuweisen (ohne den Text manuell zu **schreiben**)."
      ]
    },
    {
      "cell_type": "code",
      "metadata": {
        "id": "zRVjvDiPeSVC"
      },
      "source": [],
      "execution_count": null,
      "outputs": []
    },
    {
      "cell_type": "code",
      "metadata": {
        "id": "REU2aVLYaYTm"
      },
      "source": [],
      "execution_count": null,
      "outputs": []
    },
    {
      "cell_type": "markdown",
      "metadata": {
        "id": "VXkdB5y7hE66"
      },
      "source": [
        "### Aufgabe 1.2.8."
      ]
    },
    {
      "cell_type": "markdown",
      "metadata": {
        "id": "OY49yN9VZc_A"
      },
      "source": [
        "Ersetzen Sie im String hwr jeden Buchstaben \"H\" und \"h\" durch einen Unterstrich, ohne den ursprünglichen String zu ändern. Schaffen Sie es ohne Zwischenschritte mit einer einzelnen Zeile Code?<br> **Hinweis:** Der Rückgabewert der Replace-Methode ist wieder ein String, auf den man die Methode natürlich gleich wieder anwenden kann."
      ]
    },
    {
      "cell_type": "code",
      "metadata": {
        "id": "5MoOKGoXebSu"
      },
      "source": [],
      "execution_count": null,
      "outputs": []
    },
    {
      "cell_type": "markdown",
      "metadata": {
        "id": "75VGyUVBg9xf"
      },
      "source": [
        "### Aufgabe 1.2.9."
      ]
    },
    {
      "cell_type": "markdown",
      "metadata": {
        "id": "fwH7I4h4fqii"
      },
      "source": [
        "Teilen Sie den String mit der Methode in einzelne Wörter auf. Die Ausgabe sieht wiefolgt aus:\n",
        "> ['Hochschule', 'für', 'Wirtschaft', 'und', 'Recht', 'Bärlin']\n",
        "\n",
        " Von welchem Typ ist diese Ausgabe?"
      ]
    },
    {
      "cell_type": "code",
      "metadata": {
        "id": "-_M9uFj1fu9H"
      },
      "source": [],
      "execution_count": null,
      "outputs": []
    },
    {
      "cell_type": "markdown",
      "metadata": {
        "id": "MOnAX383XJt1"
      },
      "source": [
        "## 1.3. Arithmetische Operationen"
      ]
    },
    {
      "cell_type": "markdown",
      "metadata": {
        "id": "Ky1HZ3Wv6TGI"
      },
      "source": [
        "Im Folgenden behandeln wir elementare arithmetische Operationen, die Python beherrscht. Gegeben seien zwei Variablen x und y, die Zahlenwerte vom Typ Integer oder Float repräsentieren.\n",
        "\n",
        "* **Addition**: x+y\n",
        "* **Subtraktion**: x-y\n",
        "* **Multiplikation**: x*y\n",
        "* **Division**: x/y\n",
        "* **Negatives Vorzeichen**: -x\n",
        "* **Rest beim ganzzahligen Teilen (Modulo)**: x%y\n",
        "* **Potenzieren**: x**y"
      ]
    },
    {
      "cell_type": "markdown",
      "metadata": {
        "id": "XSnnJO085Y_3"
      },
      "source": [
        "### Aufgabe 1.3.1."
      ]
    },
    {
      "cell_type": "markdown",
      "metadata": {
        "id": "srYxcLUY_eMt"
      },
      "source": [
        "Gegeben seien die Variablen\n",
        "\n",
        "```\n",
        "zahl1 = 30\n",
        "zahl2 = 7\n",
        "```\n",
        "Berechnen Sie die Summe, die positive Differenz (Subtraktion), das Produkt (Multiplikation), den Quotienten $\\frac{30}{7}$ und den Rest nach der Division (Modulo).\n"
      ]
    },
    {
      "cell_type": "code",
      "metadata": {
        "id": "P7rjGubGAfFB"
      },
      "source": [
        "zahl1 = 30\n",
        "zahl2 = 7\n",
        "\n",
        "# Ihre Berechnungen..."
      ],
      "execution_count": null,
      "outputs": []
    },
    {
      "cell_type": "markdown",
      "metadata": {
        "id": "SIwSGflxA3Cj"
      },
      "source": [
        "### Aufgabe 1.3.2."
      ]
    },
    {
      "cell_type": "markdown",
      "metadata": {
        "id": "eJZZnl2S6dG3"
      },
      "source": [
        "Schreiben Sie ein Programm, das Temperaturen von Grad Celsius in Grad Fahrenheit konvertiert. Rechnen Sie konkret 37°C in °F um. Die folgende Umrechnungsformel sei gegeben:\n",
        "\n",
        "<center>$Fahrenheit = Celsius * 1,8 + 32 $ </center>\n",
        "\n",
        "**Hinweis:** Falls Sie ein seltsames Ergebnis erhalten, dann überlegen Sie, wie im Englischen Kommazahlen notiert werden."
      ]
    },
    {
      "cell_type": "code",
      "metadata": {
        "id": "jURrIU0rBIKq"
      },
      "source": [],
      "execution_count": null,
      "outputs": []
    },
    {
      "cell_type": "markdown",
      "metadata": {
        "id": "9jwGtS3VB_gi"
      },
      "source": [
        "## Aufgabe 1.3.3."
      ]
    },
    {
      "cell_type": "markdown",
      "metadata": {
        "id": "JzQcVT--6tQG"
      },
      "source": [
        "Entwickeln Sie ein Programm, das den Kaufpreis eines Hauses einliest und die Nebenkosten berechnet. Dabei sollen folgende Nebenkosten berücksichtigt werden:\n",
        "\n",
        "Nebenkostenart | Prozentsatz\n",
        "--|--\n",
        "Grundsteuer|6%\n",
        "Notarkosten|1,5%\n",
        "Grundbuchkosten\t| 0,5%\n",
        "Maklercourtage | 5%\n",
        "\n",
        "Das Programm sollte den Gesamtbetrag der Nebenkosten und den Gesamtpreis (Kaufpreis + Nebenkosten) ausgeben\n",
        "\n",
        "> Kaufpreis: 100000 EUR <br>\n",
        "> Nebenkosten: 13000.0 EUR<br>\n",
        "> Gesamtkosten: 113000.0 EUR\n"
      ]
    },
    {
      "cell_type": "code",
      "metadata": {
        "id": "fZQSGDAt77Pz",
        "outputId": "78f0de1f-d218-4579-882f-61e1d21aa871",
        "colab": {
          "base_uri": "https://localhost:8080/",
          "height": 69
        }
      },
      "source": [],
      "execution_count": null,
      "outputs": [
        {
          "output_type": "stream",
          "text": [
            "Kaufpreis: 100000 EUR \n",
            "Nebenkosten: 13000.0 EUR\n",
            "Gesamtkosten: 113000.0 EUR\n"
          ],
          "name": "stdout"
        }
      ]
    }
  ]
}