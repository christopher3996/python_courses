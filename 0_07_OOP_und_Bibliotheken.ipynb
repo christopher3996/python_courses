{
  "nbformat": 4,
  "nbformat_minor": 0,
  "metadata": {
    "colab": {
      "name": "0_07_OOP_und_Bibliotheken.ipynb",
      "provenance": [],
      "collapsed_sections": [],
      "authorship_tag": "ABX9TyNIvnEEiniLF21tol9zO76q",
      "include_colab_link": true
    },
    "kernelspec": {
      "name": "python3",
      "display_name": "Python 3"
    }
  },
  "cells": [
    {
      "cell_type": "markdown",
      "metadata": {
        "id": "view-in-github",
        "colab_type": "text"
      },
      "source": [
        "<a href=\"https://colab.research.google.com/github/christopher3996/python_courses/blob/main/0_07_OOP_und_Bibliotheken.ipynb\" target=\"_parent\"><img src=\"https://colab.research.google.com/assets/colab-badge.svg\" alt=\"Open In Colab\"/></a>"
      ]
    },
    {
      "cell_type": "markdown",
      "metadata": {
        "id": "SHIitm3rTJ0u"
      },
      "source": [
        "**# Session 7**\n",
        "## Einführung in die Programmierung \n",
        "*Bank Kurse WiSe 2020/21 an der HWR Berlin*"
      ]
    },
    {
      "cell_type": "markdown",
      "metadata": {
        "id": "V4F8ygr2TTac"
      },
      "source": [
        "# 7. Objektorientierung und Bibliotheken"
      ]
    },
    {
      "cell_type": "markdown",
      "metadata": {
        "id": "OQDJgABmahkH"
      },
      "source": [
        "## 7.1. Aufgabe"
      ]
    },
    {
      "cell_type": "markdown",
      "metadata": {
        "id": "ClRLETKxaj3S"
      },
      "source": [
        "Erstellen Sie eine Klasse Auto, die keine Attribute oder Methoden besitzt. Instanziieren Sie die zwei Objekte \"vw_golf\" und \"vw_polo\" als Auto. Lassen Sie sich die beiden Objekte mit print ausgeben. Interpretieren Sie die Ausgabe."
      ]
    },
    {
      "cell_type": "code",
      "metadata": {
        "id": "Wi06MeENaoRE"
      },
      "source": [
        "# Klassendefinition\n",
        "\n",
        "\n",
        "# Instanziierung\n"
      ],
      "execution_count": null,
      "outputs": []
    },
    {
      "cell_type": "code",
      "metadata": {
        "id": "i7gWwk5aaqmo"
      },
      "source": [
        "# Ausgabe\n"
      ],
      "execution_count": null,
      "outputs": []
    },
    {
      "cell_type": "markdown",
      "metadata": {
        "id": "6d42JjQdTcFr"
      },
      "source": [
        "## 7.2. Aufgabe"
      ]
    },
    {
      "cell_type": "markdown",
      "metadata": {
        "id": "Gwp2Msr7Tqq1"
      },
      "source": [
        "Schreiben Sie eine Klasse Hund. Ein Hund hat folgende Attribute:\n",
        "\n",
        "*   Rasse\n",
        "*   Alter\n",
        "*   Gewicht\n",
        "\n",
        "Dazu besitzt er folgende Methoden:\n",
        "\n",
        "*  bellen (Print-Ausgabe: \"Wau-Wau!\")\n",
        "*  schlafen (Print-Ausgabe: \"Zzz...\")\n",
        "*  fressen (Print-Ausgabe: \"Yam!\" und Gewicht wird um ein Kilo erhöht)\n",
        "*  geburtstagFeiern (Alter wird um 1 erhöht)\n",
        "*  getAlter (Print Alter)\n",
        "*  getGewicht (Print Gewicht)\n",
        "*  getRasse (Print Rasse)\n",
        "\n",
        "Testen Sie im Anschluss die Klasse, indem Sie mehrere Objekte dieser Klasse instanziieren und die einzelnen Methoden aufrufen."
      ]
    },
    {
      "cell_type": "code",
      "metadata": {
        "id": "nwztEqOQTHvf"
      },
      "source": [
        "# Klassendefinition\n"
      ],
      "execution_count": null,
      "outputs": []
    },
    {
      "cell_type": "code",
      "metadata": {
        "id": "fHwVgq0RTvoN"
      },
      "source": [
        "# Instanziierung\n",
        "\n",
        "# Tests"
      ],
      "execution_count": null,
      "outputs": []
    },
    {
      "cell_type": "markdown",
      "metadata": {
        "id": "a3WjWttVTjU0"
      },
      "source": [
        "## 7.3. Aufgabe"
      ]
    },
    {
      "cell_type": "markdown",
      "metadata": {
        "id": "4Y4CV2UuTy54"
      },
      "source": [
        "Ein Kreis hat folgendes Attribut:\n",
        "*  radius\n",
        "\n",
        "Aus dem Radius ergeben sich folgende Methoden:\n",
        "* getDiameter (gibt den Durchmesser zurück)\n",
        "* getRadius (gibt den Radius zurück)\n",
        "* getCircumference (gibt den Umfang aus)\n",
        "* getCircularArea (gibt den Flächeninhalt aus)\n",
        "* setRadius (verändert den Radius)\n",
        "\n",
        "Schreiben Sie eine Klasse Circle mit oben genannter Spezifizierung. Fügen Sie als Konstruktor eine Methode hinzu, die initial einen Radius festlegt. Wenn dieser nicht übergeben wird, dann ist standardmäßig ein Kreis mit dem Radius $radius = 0$ zu instanziieren.\n",
        "\n",
        "Importieren Sie die Kreiszahl Pi aus der Bibliothek Math.\n",
        "\n",
        "Testen Sie im Anschluss die Klasse, indem Sie mehrere Objekte dieser Klasse instanziieren und die einzelnen Methoden aufrufen."
      ]
    },
    {
      "cell_type": "code",
      "metadata": {
        "id": "iGbSxpBlTkxG"
      },
      "source": [
        "# Bibliothek\n",
        "\n",
        "# Klassendefinition"
      ],
      "execution_count": null,
      "outputs": []
    },
    {
      "cell_type": "code",
      "metadata": {
        "id": "yvVde_ZtT1Qc"
      },
      "source": [
        "# Instanziierung\n",
        "\n",
        "# Tests\n"
      ],
      "execution_count": null,
      "outputs": []
    },
    {
      "cell_type": "markdown",
      "metadata": {
        "id": "WhIM_bsKTlUc"
      },
      "source": [
        "## 7.4. Aufgabe"
      ]
    },
    {
      "cell_type": "markdown",
      "metadata": {
        "id": "Fp6KpwJJT9NZ"
      },
      "source": [
        "Schreiben Sie eine Klasse Wuerfel mit folgenden Eigenschaften:\n",
        "* untereAugenzahl (standardmäßig 1)\n",
        "* obereAugenzahl (standardmäßig 6)\n",
        "\n",
        "Dazu hat ein Wuerfel eine Methode werfen(n). Der Parameter n ist optional und standarmäßig 1. Wenn $n>1$, dann werden $n$ zufällige Würfe simuliert und eine Liste mit der Anzahl pro Augenzahl ausgegeben. Bei $n=1$ wird nur die Augenzahl zurückgegeben.\n",
        "\n",
        "Testen Sie im Anschluss die Klasse, indem Sie mehrere Objekte dieser Klasse instanziieren und die werfen-Methode mit unterschiedlichen Werten aufrufen."
      ]
    },
    {
      "cell_type": "code",
      "metadata": {
        "id": "7RAKtoy4T-17"
      },
      "source": [
        "# Bibliothek\n",
        "\n",
        "# Klassendefinition\n"
      ],
      "execution_count": null,
      "outputs": []
    },
    {
      "cell_type": "code",
      "metadata": {
        "id": "VmhrLDr3UAmO"
      },
      "source": [
        "# Instanziierung\n",
        "\n",
        "# Tests\n"
      ],
      "execution_count": null,
      "outputs": []
    }
  ]
}