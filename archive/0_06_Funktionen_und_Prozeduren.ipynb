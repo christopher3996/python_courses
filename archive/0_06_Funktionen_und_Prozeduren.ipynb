{
  "nbformat": 4,
  "nbformat_minor": 0,
  "metadata": {
    "colab": {
      "name": "0_06_Funktionen_und_Prozeduren.ipynb",
      "provenance": [],
      "collapsed_sections": [],
      "include_colab_link": true
    },
    "kernelspec": {
      "name": "python3",
      "display_name": "Python 3"
    }
  },
  "cells": [
    {
      "cell_type": "markdown",
      "metadata": {
        "id": "view-in-github",
        "colab_type": "text"
      },
      "source": [
        "<a href=\"https://colab.research.google.com/github/christopher3996/python_courses/blob/main/0_06_Funktionen_und_Prozeduren.ipynb\" target=\"_parent\"><img src=\"https://colab.research.google.com/assets/colab-badge.svg\" alt=\"Open In Colab\"/></a>"
      ]
    },
    {
      "cell_type": "markdown",
      "metadata": {
        "id": "587LUh50y14Q"
      },
      "source": [
        "**# Session 6**\n",
        "## Einführung in die Programmierung \n",
        "*Bank Kurse WiSe 2020/21 an der HWR Berlin*"
      ]
    },
    {
      "cell_type": "markdown",
      "metadata": {
        "id": "Z0Q5TcxOy38g"
      },
      "source": [
        "# 6. Funktionen und Prozeduren"
      ]
    },
    {
      "cell_type": "markdown",
      "metadata": {
        "id": "JY0s9zxr6eqf"
      },
      "source": [
        "## 6.1. Einfache Funktionen/Prozeduren"
      ]
    },
    {
      "cell_type": "markdown",
      "metadata": {
        "id": "GnbN8p-36bxG"
      },
      "source": [
        "### Aufgabe 6.1.1."
      ]
    },
    {
      "cell_type": "markdown",
      "metadata": {
        "id": "P2YMAm3J1idX"
      },
      "source": [
        "Schreiben Sie eine Prozedur *helloName* in Python, die als Eingabe einen Namen erhält und dann eine Grußformel mit dem Namen ausgibt.\n",
        "\n",
        ">Beispiel-Ausgabe: \"Guten Tag, Alice!\" "
      ]
    },
    {
      "cell_type": "code",
      "metadata": {
        "id": "MR-7miFo5yVn",
        "outputId": "079d69c7-5ea2-49ac-a9d4-65f49b55a2b1",
        "colab": {
          "base_uri": "https://localhost:8080/",
          "height": 35
        }
      },
      "source": [
        ""
      ],
      "execution_count": null,
      "outputs": [
        {
          "output_type": "stream",
          "text": [
            "Guten Tag, Alice!\n"
          ],
          "name": "stdout"
        }
      ]
    },
    {
      "cell_type": "markdown",
      "metadata": {
        "id": "k1gneYOz6wP2"
      },
      "source": [
        "### Aufgabe 6.1.2."
      ]
    },
    {
      "cell_type": "markdown",
      "metadata": {
        "id": "gp6DSjATzRAP"
      },
      "source": [
        "Schreiben Sie eine Python Funktion, die das Maximum aus drei Zahlen zurückgibt. Testen Sie ihre Funktion mit beliebigen Zahlen."
      ]
    },
    {
      "cell_type": "code",
      "metadata": {
        "id": "yfzkj3KL1Cc0",
        "outputId": "1c3876b1-ed09-47a8-ba80-7daa76266302",
        "colab": {
          "base_uri": "https://localhost:8080/",
          "height": 35
        }
      },
      "source": [
        ""
      ],
      "execution_count": null,
      "outputs": [
        {
          "output_type": "execute_result",
          "data": {
            "text/plain": [
              "4"
            ]
          },
          "metadata": {
            "tags": []
          },
          "execution_count": 6
        }
      ]
    },
    {
      "cell_type": "markdown",
      "metadata": {
        "id": "4H2YY9mO6ykZ"
      },
      "source": [
        "### Aufgabe 6.1.3."
      ]
    },
    {
      "cell_type": "markdown",
      "metadata": {
        "id": "ueRDUFf6zail"
      },
      "source": [
        "Schreiben Sie eine Python Funktion, die als Eingabe ein Objekt vom Typ \"List\" aufnimmt und die Differenz zwischen dem maximalen Wert und dem minimalen Wert zurückgibt.\n",
        "\n",
        "> Nutzen Sie zum Testen eine Liste mit folgenden Zahlen: 4, 9, 0, 11, -5"
      ]
    },
    {
      "cell_type": "code",
      "metadata": {
        "id": "BWEAkDVD1Ojj",
        "outputId": "991d7e21-15dc-4907-8679-b83afc6d1f15",
        "colab": {
          "base_uri": "https://localhost:8080/",
          "height": 35
        }
      },
      "source": [
        ""
      ],
      "execution_count": null,
      "outputs": [
        {
          "output_type": "execute_result",
          "data": {
            "text/plain": [
              "16"
            ]
          },
          "metadata": {
            "tags": []
          },
          "execution_count": 5
        }
      ]
    },
    {
      "cell_type": "markdown",
      "metadata": {
        "id": "nZvUwo2P60Ea"
      },
      "source": [
        "### Aufgabe 6.1.4."
      ]
    },
    {
      "cell_type": "markdown",
      "metadata": {
        "id": "jtuHtnmH0Uud"
      },
      "source": [
        "Schreiben Sie eine Funktion, die als Argument eine Liste mit Zahlen erhält und eine weitere Liste zurückgibt, die keine doppelten Werte mehr enthält. **Tipp**: Ggf. benötigen Sie den logischen Mitgliedschaftsoperator \"in\". \n",
        "\n",
        "> Beispiel:<br>\n",
        "> Input: [2, 5, 3, 3, 4, 5, 8, 1, 2]<br>\n",
        "> Output: [2, 5, 3, 4, 8, 1]"
      ]
    },
    {
      "cell_type": "code",
      "metadata": {
        "id": "Pqk2g1jk14RW",
        "outputId": "c100064b-7bd9-4ac0-9865-2093394013e7",
        "colab": {
          "base_uri": "https://localhost:8080/",
          "height": 35
        }
      },
      "source": [
        "# Funktion...\n",
        "\n",
        "testList = [2, 5, 3, 3, 4, 5, 8, 1, 2]\n",
        "\n",
        "\n",
        "# Funktionsaufruf..."
      ],
      "execution_count": null,
      "outputs": [
        {
          "output_type": "execute_result",
          "data": {
            "text/plain": [
              "[2, 5, 3, 4, 8, 1]"
            ]
          },
          "metadata": {
            "tags": []
          },
          "execution_count": 7
        }
      ]
    },
    {
      "cell_type": "markdown",
      "metadata": {
        "id": "3S9bJEVi61va"
      },
      "source": [
        "### Aufgabe 6.1.5."
      ]
    },
    {
      "cell_type": "markdown",
      "metadata": {
        "id": "BnLOQu6X1lkG"
      },
      "source": [
        "Schreiben Sie eine Funktion, die als Eingabeparameter eine Zahl erhält und als Rückgabe den Wahrheitswert *True* ausgibt, wenn die Zahl eine Primzahl ist und *False* andernfalls.\n",
        "\n",
        "Zur Erinnerung: Eine Primzahl ist nur durch sich selbst oder durch die 1 ohne Rest teilbar."
      ]
    },
    {
      "cell_type": "code",
      "metadata": {
        "id": "RqdLpRsR21kG",
        "outputId": "59b817f3-b842-4b69-b5cd-c2991fefb306",
        "colab": {
          "base_uri": "https://localhost:8080/",
          "height": 35
        }
      },
      "source": [
        "# Funktion...\n",
        "\n",
        "isPrime(19)"
      ],
      "execution_count": null,
      "outputs": [
        {
          "output_type": "execute_result",
          "data": {
            "text/plain": [
              "True"
            ]
          },
          "metadata": {
            "tags": []
          },
          "execution_count": 18
        }
      ]
    },
    {
      "cell_type": "markdown",
      "metadata": {
        "id": "dUC9UdwA63BC"
      },
      "source": [
        "### Aufgabe 6.1.6."
      ]
    },
    {
      "cell_type": "markdown",
      "metadata": {
        "id": "TtbABoA442oi"
      },
      "source": [
        "Schreiben Sie eine Funktion *futureValue*, die auf Eingabe von einem Anfangskapital $K_0$, einer Verzinsung $i$ und einer Laufzeit $t$ in Jahren das Endkapital $K_t$ ermittelt. Alle Parameter sind optional und werden jeweils standardmäßig auf 0 gesetzt, falls nicht spezifiziert.\n",
        "\n",
        "<center>$K_t = K_0 * (1+i)^{t} $</center>\n",
        "\n",
        "Wenn Sie z.B. heute 1000 EUR bei 7% Verzinsung anlegen, beträgt Ihr Endkapital nach 10 Jahren 1967,15 EUR."
      ]
    },
    {
      "cell_type": "code",
      "metadata": {
        "id": "ndRb2gRr3rov"
      },
      "source": [
        ""
      ],
      "execution_count": null,
      "outputs": []
    },
    {
      "cell_type": "code",
      "metadata": {
        "id": "3zlYU1DY4_LD",
        "outputId": "d867748f-6f77-4ebb-c564-945af21d76c3",
        "colab": {
          "base_uri": "https://localhost:8080/",
          "height": 35
        }
      },
      "source": [
        "futureValue(1000, 0.07, 10)"
      ],
      "execution_count": null,
      "outputs": [
        {
          "output_type": "execute_result",
          "data": {
            "text/plain": [
              "1967.1513572895665"
            ]
          },
          "metadata": {
            "tags": []
          },
          "execution_count": 30
        }
      ]
    },
    {
      "cell_type": "markdown",
      "metadata": {
        "id": "jyY8lftvZZzy"
      },
      "source": [
        "## 6.2. Funktionen mit Import von Bibliotheken"
      ]
    },
    {
      "cell_type": "markdown",
      "metadata": {
        "id": "67JGNu7BYZQr"
      },
      "source": [
        "### Aufgabe 6.2.1."
      ]
    },
    {
      "cell_type": "markdown",
      "metadata": {
        "id": "VwuG42H1YeuS"
      },
      "source": [
        "Schreiben Sie eine Python Funktion, die auf Eingabe eines Radius den Umfang eines Kreises berechnet und zurückgibt. Importieren Sie hierfür die Kreiszahl Pi aus der Bibliothek Math."
      ]
    },
    {
      "cell_type": "code",
      "metadata": {
        "id": "gPQEl-pMg6_w"
      },
      "source": [
        ""
      ],
      "execution_count": null,
      "outputs": []
    },
    {
      "cell_type": "markdown",
      "metadata": {
        "id": "AsZG6QgKZSxM"
      },
      "source": [
        "###Aufgabe 6.2.2."
      ]
    },
    {
      "cell_type": "markdown",
      "metadata": {
        "id": "EaroAp5GZgAW"
      },
      "source": [
        "Gegeben sei eine quadratische Gleichung $ax^2+bx+c=0$ mit $a,b,c \\in\\rm I\\!R$.\n",
        "\n",
        "Die Nullstellen der Gleichung lassen sich ermitteln mit folgender Umformung:\n",
        "<center>$x=\\frac{-b\\pm \\sqrt{b^2-4ac}}{2a}$</center>\n",
        "\n",
        "\n",
        "Schreiben Sie eine Python Funktion, die die Nullstellen einer solchen quadratischen Gleichung ermittelt und zurückgibt. Beachten Sie: Eine quadratische Gleichung besitzt keine Nullstellen, wenn die Diskriminante $(b^2-4ac)$ negativ ist. Sie besitzt eine Nullstelle, wenn die Diskriminante gleich Null ist und zwei Nullstellen, wenn die Diskriminante (positiv) größer als Null ist."
      ]
    },
    {
      "cell_type": "code",
      "metadata": {
        "id": "A7xGEbe4ecyF"
      },
      "source": [
        ""
      ],
      "execution_count": null,
      "outputs": []
    },
    {
      "cell_type": "code",
      "metadata": {
        "id": "MLNAUGqmfT2T",
        "outputId": "dea4c0df-050b-4d0e-cf3e-8d5727b1c9e3",
        "colab": {
          "base_uri": "https://localhost:8080/",
          "height": 35
        }
      },
      "source": [
        "#Beispiel\n",
        "Nullstellen(1,0,-2)"
      ],
      "execution_count": null,
      "outputs": [
        {
          "output_type": "execute_result",
          "data": {
            "text/plain": [
              "[1.4142135623730951, -1.4142135623730951]"
            ]
          },
          "metadata": {
            "tags": []
          },
          "execution_count": 9
        }
      ]
    },
    {
      "cell_type": "markdown",
      "metadata": {
        "id": "mg4w4l_t35fy"
      },
      "source": [
        "## 6.3. Projekt: Kunden-Buchungssystem "
      ]
    },
    {
      "cell_type": "markdown",
      "metadata": {
        "id": "aDVTSXmq37nJ"
      },
      "source": [
        "Der Vertriebsleiter der Deutschen Kommerzkasse möchte ein neues Kunden-Buchungssystem entwickeln, das die Arbeit in den Privatkundenfilialen digitalisieren soll. Das Ziel ist es Kundennamen, mit dem jeweiligen Kontosaldo und dem Kontokorrent-Rahmen zu speichern. Des Weiteren soll das System Ein- und Auszahlungen ermöglichen und den Kontokorrent-Rahmen beachten. \n",
        "\n",
        "1. Eine (zu Anfang leere) Liste ***kunden*** soll alle Kunden speichern. Ein Kunde wird wiederum ebenfalls als Liste dargestellt in dem Format:<br>\n",
        "[Name, Kontokorrentrahmen, Saldo] <br>\n",
        "(Wir erhalten somit eine List of Lists)\n",
        "\n",
        "2. Eine Funktion ***openAccount*** soll einen neuen Kunden erstellen. Als Eingabe erhält sie einen Namen und optional kann auch ein Kontokorrentrahmen festgelegt werden(, andernfalls ist dieser 0). Der Saldo beträgt zu Beginn immer 0. Bei erfolgreicher Erstellung des Kunden gibt die Funktion *True* zurück. Falls der Kundenname bereits existiert, wird kein neuer Kunde hinzugefügt und *False* zurückgegeben.  \n",
        "\n",
        "3. Eine Funktion ***withdraw*** soll auf Eingabe eines Kundennamens und eines Geldbetrags nach dem jeweiligen Eintrag in der Liste suchen. Sollten Saldo und Kontokorrentrahmen ausreichen, wird der Geldbetrag vom Saldo abgezogen und *True* zurückgegeben, andernfalls *False*. Wenn der Kundenname nicht existiert, wird ebenfalls *False* zurückgegeben.\n",
        "\n",
        "4. Eine Funktion ***deposit*** soll auf Eingabe eines Kundennamens und eines Geldbetrags nach dem jeweiligen Eintrag in der Liste suchen. Wenn der Kundenname existiert, wird der Geldbetrag auf den Saldo dazugerechnet und *True* zurückgegeben, andernfalls *False*. \n",
        "\n",
        "5. Eine Funktion ***getBalance*** soll auf Eingabe eines Kundennamens den aktuellen Saldo und ein True zurückgeben (zwei Rückgabewerte). Wenn der Kunde nicht existiert, wird 0 und False zurückgegeben.\n",
        "\n",
        "6. Eine Prozedur ***branchOverview*** gibt alle Kunden mit deren aktuellem Saldo aus. Darunter berechnet sie den Gesamtsaldo über alle Kunden in dieser Filiale und gibt diesen aus.\n",
        "\n",
        "7. Zuletzt soll eine Prozedur **userInterface** ein Menü für den Nutzer darstellen. Diese Prozedur ruft basierend auf den Nutzer-Eingaben die anderen Funktionen/Prozeduren auf und behandelt deren Output. Das userInterface bildet den Start des Programms ab und diese Prozedur läuft konstant weiter, bis der Nuter sie (und somit das Programm) aktiv beendet.\n",
        "\n",
        "> Buchungssystem der Deutschen Kommerzkasse AG <br>\n",
        "> --------------------------------<br>\n",
        ">  Neues Konto eröffnen [o]<br>\n",
        ">  Geld abheben [w]<br>\n",
        ">  Geld einzahlen [d]<br>\n",
        ">  Kontostand anzeigen [b]<br>\n",
        ">  Filialbestand anzeigen [t]<br>\n",
        ">  Menü anzeigen: [help]<br>\n",
        ">  Programm beenden [exit]<br><br>\n",
        "> Bitte treffen Sie eine Auswahl: o<br><br>\n",
        "> Geben Sie den Namen des Neukunden ein: Alice<br>\n",
        "> Geben Sie den Kontokorrentrahmen ein: <br>\n",
        "> Neukunde angelegt!<br>\n",
        "> --------------------------------<br>\n",
        "> Bitte treffen Sie eine Auswahl: o<br><br>\n",
        "> Geben Sie den Namen des Neukunden ein: Alice<br>\n",
        "> Geben Sie den Kontokorrentrahmen ein: <br>\n",
        "> Fehler!<br>\n",
        "> --------------------------------<br>\n",
        "> Bitte treffen Sie eine Auswahl: d<br><br>\n",
        "> Geben Sie den Namen des Kunden ein: Alice<br>\n",
        "> Geben Sie den Betrag ein: 100<br>\n",
        "> Einzahlung erfolgreich!<br>\n",
        "> --------------------------------<br>\n",
        "> Bitte treffen Sie eine Auswahl: help<br><br>\n",
        ">  Neues Konto eröffnen [o]<br>\n",
        ">  Geld abheben [w]<br>\n",
        ">  Geld einzahlen [d]<br>\n",
        ">  Kontostand anzeigen [b]<br>\n",
        ">  Filialbestand anzeigen [t]<br>\n",
        ">  Menü anzeigen: [help]<br>\n",
        ">  Programm beenden [exit]<br><br>\n",
        "> Bitte treffen Sie eine Auswahl: __"
      ]
    },
    {
      "cell_type": "code",
      "metadata": {
        "id": "6-GDPqubynOU"
      },
      "source": [
        "# 1)\n",
        "\n",
        "\n",
        "# 2)\n",
        "def openAccount(name, kk=0):\n",
        "\n",
        "\n",
        "\n",
        "# 3) \n",
        "def withdraw(name, amount):\n",
        "  \n",
        "\n",
        "\n",
        "# 4)\n",
        "def deposit(name, amount):\n",
        "\n",
        "\n",
        "\n",
        "# 5)\n",
        "def getBalance(name):\n",
        "\n",
        "\n",
        "\n",
        "# 6)\n",
        "def branchOverview():\n",
        "\n",
        "\n",
        "\n",
        "# 7)\n",
        "def userInterface():\n",
        "  # print(\"Buchungssystem der Deutschen Kommerzkasse AG\")\n",
        "  # print(\"--------------------------------\")\n",
        "  # def printMenu():\n",
        "  #   print(\"Neues Konto eröffnen [o]\")\n",
        "  #   print(\"Geld abheben [w]\")\n",
        "  #   print(\"Geld einzahlen [d]\")\n",
        "  #   print(\"Kontostand anzeigen [b]\")\n",
        "  #   print(\"Filialbestand anzeigen [t]\")\n",
        "  #   print(\"Menü anzeigen: [help]\")\n",
        "  #   print(\"Programm beenden [exit]\")\n",
        "  # printMenu()\n",
        "  \n",
        "  # while True:\n",
        "  #   userSelection = input(\"\\nBitte treffen Sie eine Auswahl: \\n\")\n",
        "    \n",
        "    # Ab hier für jede Selektionsmöglichkeit unterscheiden...\n",
        "\n",
        "    #openAccount\n",
        "    \n",
        "    \n",
        "    # withdraw\n",
        "\n",
        "    \n",
        "    # deposit\n",
        "\n",
        "\n",
        "    # getBalance\n",
        "\n",
        "\n",
        "    # branchOverview\n",
        "\n",
        "\n",
        "    # Help\n",
        "\n",
        "    \n",
        "    # Exit\n",
        "\n",
        "  \n"
      ],
      "execution_count": null,
      "outputs": []
    },
    {
      "cell_type": "code",
      "metadata": {
        "id": "DtpQvq21TKIq",
        "outputId": "6d0fab79-bd6b-4226-9c80-d4a8ba7cb7d0",
        "colab": {
          "base_uri": "https://localhost:8080/",
          "height": 815
        }
      },
      "source": [
        "userInterface()"
      ],
      "execution_count": null,
      "outputs": [
        {
          "output_type": "stream",
          "text": [
            "Buchungssystem der Deutschen Kommerzkasse AG\n",
            "--------------------------------\n",
            "Neues Konto eröffnen [o]\n",
            "Geld abheben [w]\n",
            "Geld einzahlen [d]\n",
            "Kontostand anzeigen [b]\n",
            "Filialbestand anzeigen [t]\n",
            "Menü anzeigen: [help]\n",
            "Programm beenden [exit]\n",
            "\n",
            "Bitte treffen Sie eine Auswahl: \n",
            "w\n",
            "Geben Sie den Namen des Kunden ein: \n",
            "Christopher\n",
            "Geben Sie den Betrag ein: \n",
            "100\n",
            "Fehler!\n",
            "\n",
            "\n",
            "Bitte treffen Sie eine Auswahl: \n",
            "o\n",
            "Geben Sie den Namen des Neukunden ein: \n",
            "Alice\n",
            "Geben Sie den Kontokorrentrahmen ein: \n",
            "100\n",
            "Neukunde angelegt!\n",
            "\n",
            "\n",
            "Bitte treffen Sie eine Auswahl: \n",
            "help\n",
            "Neues Konto eröffnen [o]\n",
            "Geld abheben [w]\n",
            "Geld einzahlen [d]\n",
            "Kontostand anzeigen [b]\n",
            "Filialbestand anzeigen [t]\n",
            "Menü anzeigen: [help]\n",
            "Programm beenden [exit]\n",
            "\n",
            "Bitte treffen Sie eine Auswahl: \n",
            "t\n",
            "Alice 0\n",
            "Gesamtsaldo: 0\n",
            "\n",
            "Bitte treffen Sie eine Auswahl: \n",
            "exit\n",
            "System exit!\n"
          ],
          "name": "stdout"
        }
      ]
    }
  ]
}