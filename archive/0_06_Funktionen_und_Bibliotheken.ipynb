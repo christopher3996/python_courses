{
  "nbformat": 4,
  "nbformat_minor": 0,
  "metadata": {
    "colab": {
      "provenance": [],
      "include_colab_link": true
    },
    "kernelspec": {
      "name": "python3",
      "display_name": "Python 3"
    }
  },
  "cells": [
    {
      "cell_type": "markdown",
      "metadata": {
        "id": "view-in-github",
        "colab_type": "text"
      },
      "source": [
        "<a href=\"https://colab.research.google.com/github/christopher3996/python_courses/blob/main/0_06_Funktionen_und_Bibliotheken.ipynb\" target=\"_parent\"><img src=\"https://colab.research.google.com/assets/colab-badge.svg\" alt=\"Open In Colab\"/></a>"
      ]
    },
    {
      "cell_type": "markdown",
      "metadata": {
        "id": "587LUh50y14Q"
      },
      "source": [
        "**# Session 6**\n",
        "## Einführung in die Programmierung \n",
        "*Bank Kurse an der HWR Berlin*"
      ]
    },
    {
      "cell_type": "markdown",
      "metadata": {
        "id": "Z0Q5TcxOy38g"
      },
      "source": [
        "# 6. Funktionen und Bibliotheken"
      ]
    },
    {
      "cell_type": "markdown",
      "metadata": {
        "id": "JY0s9zxr6eqf"
      },
      "source": [
        "## 6.1. Einfache Funktionen"
      ]
    },
    {
      "cell_type": "markdown",
      "metadata": {
        "id": "GnbN8p-36bxG"
      },
      "source": [
        "### Aufgabe 6.1.1."
      ]
    },
    {
      "cell_type": "markdown",
      "metadata": {
        "id": "gp6DSjATzRAP"
      },
      "source": [
        "Schreiben Sie eine Python Funktion, die das Maximum aus drei Zahlen zurückgibt. Testen Sie ihre Funktion mit beliebigen Zahlen."
      ]
    },
    {
      "cell_type": "code",
      "metadata": {
        "id": "yfzkj3KL1Cc0",
        "outputId": "1c3876b1-ed09-47a8-ba80-7daa76266302",
        "colab": {
          "base_uri": "https://localhost:8080/",
          "height": 35
        }
      },
      "source": [],
      "execution_count": null,
      "outputs": [
        {
          "output_type": "execute_result",
          "data": {
            "text/plain": [
              "4"
            ]
          },
          "metadata": {
            "tags": []
          },
          "execution_count": 6
        }
      ]
    },
    {
      "cell_type": "markdown",
      "metadata": {
        "id": "4H2YY9mO6ykZ"
      },
      "source": [
        "### Aufgabe 6.1.3."
      ]
    },
    {
      "cell_type": "markdown",
      "metadata": {
        "id": "ueRDUFf6zail"
      },
      "source": [
        "Schreiben Sie eine Python Funktion, die als Eingabe ein Objekt vom Typ \"List\" aufnimmt und die Differenz zwischen dem maximalen Wert und dem minimalen Wert zurückgibt.\n",
        "\n",
        "> Nutzen Sie zum Testen eine Liste mit folgenden Zahlen: 4, 9, 0, 11, -5"
      ]
    },
    {
      "cell_type": "code",
      "metadata": {
        "id": "BWEAkDVD1Ojj",
        "outputId": "991d7e21-15dc-4907-8679-b83afc6d1f15",
        "colab": {
          "base_uri": "https://localhost:8080/",
          "height": 35
        }
      },
      "source": [],
      "execution_count": null,
      "outputs": [
        {
          "output_type": "execute_result",
          "data": {
            "text/plain": [
              "16"
            ]
          },
          "metadata": {
            "tags": []
          },
          "execution_count": 5
        }
      ]
    },
    {
      "cell_type": "markdown",
      "metadata": {
        "id": "nZvUwo2P60Ea"
      },
      "source": [
        "### Aufgabe 6.1.4."
      ]
    },
    {
      "cell_type": "markdown",
      "metadata": {
        "id": "TtbABoA442oi"
      },
      "source": [
        "Schreiben Sie eine Funktion *futureValue*, die auf Eingabe von einem Anfangskapital $K_0$, einer Verzinsung $i$ und einer Laufzeit $t$ in Jahren das Endkapital $K_t$ ermittelt. Alle Parameter sind optional und werden jeweils standardmäßig auf 0 gesetzt, falls nicht spezifiziert.\n",
        "\n",
        "<center>$K_t = K_0 * (1+i)^{t} $</center>\n",
        "\n",
        "Wenn Sie z.B. heute 1000 EUR bei 7% Verzinsung anlegen, beträgt Ihr Endkapital nach 10 Jahren 1967,15 EUR."
      ]
    },
    {
      "cell_type": "code",
      "metadata": {
        "id": "ndRb2gRr3rov"
      },
      "source": [],
      "execution_count": null,
      "outputs": []
    },
    {
      "cell_type": "code",
      "metadata": {
        "id": "3zlYU1DY4_LD",
        "outputId": "d867748f-6f77-4ebb-c564-945af21d76c3",
        "colab": {
          "base_uri": "https://localhost:8080/",
          "height": 35
        }
      },
      "source": [
        "futureValue(1000, 0.07, 10)"
      ],
      "execution_count": null,
      "outputs": [
        {
          "output_type": "execute_result",
          "data": {
            "text/plain": [
              "1967.1513572895665"
            ]
          },
          "metadata": {
            "tags": []
          },
          "execution_count": 30
        }
      ]
    },
    {
      "cell_type": "markdown",
      "metadata": {
        "id": "jyY8lftvZZzy"
      },
      "source": [
        "## 6.2. Funktionen mit Import von Bibliotheken\n",
        "Wählen Sie eines der folgenden drei Projekte aus:"
      ]
    },
    {
      "cell_type": "markdown",
      "source": [
        "### Projekt 1: Stock Prices\n"
      ],
      "metadata": {
        "id": "j4uOubLv3wL0"
      }
    },
    {
      "cell_type": "markdown",
      "source": [
        "Schreiben Sie eine Funktion, die als Eingabeparamter ein Stock Ticker Symbol (z.B. 'AAPL', 'MSFT', 'GOOGL') akzeptiert und dann mit der Bibliothek **yfinance** den aktuellen Closing-Preis ausgibt. Installieren Sie ggf. zunächst die Bibliothek.\n",
        "Die Dokumentation der Bibliothek ist unter folgenden Links zu finden: \n",
        "\n",
        "*   https://pypi.org/project/yfinance/\n",
        "*   https://github.com/ranaroussi/yfinance\n",
        "\n",
        "Zusatz: Können Sie einen Plot mit den Closing-Preisen der letzten 30 Tagen erstellen?\n"
      ],
      "metadata": {
        "id": "C0cOT1F330C3"
      }
    },
    {
      "cell_type": "code",
      "source": [
        "!pip install yfinance\n",
        "import yfinance as yf\n",
        "prices = yf.Ticker(\"MSFT\").history(period=\"30d\")\n",
        "prices['Close'].plot()"
      ],
      "metadata": {
        "id": "OgcAL8-30Z6v"
      },
      "execution_count": null,
      "outputs": []
    },
    {
      "cell_type": "markdown",
      "source": [
        "### Projekt 2: Devisenkurse"
      ],
      "metadata": {
        "id": "UvTMM7fH6-zb"
      }
    },
    {
      "cell_type": "markdown",
      "source": [
        "Schreiben Sie eine Funktion, die aktuelle Wechselkurse für den EUR anzeigt und auch einen bestimmten Betrag X umrechnen kann (\"Wie viele USD erhalte ich für X EUR?\"). Nutzen Sie hierfür die Bibliothek **forex-python**, die ggf. noch installiert werden muss.\n",
        "\n",
        "Die Dokumentation dieser Bibliothek ist hier zu finden:\n",
        "* https://github.com/MicroPyramid/forex-python\n",
        "\n",
        "Zusatz: Können Sie die Anzeige auf 2 Nachkommastellen begrenzen?"
      ],
      "metadata": {
        "id": "Y6ddwZ34BoZD"
      }
    },
    {
      "cell_type": "code",
      "source": [
        "!pip install forex-python\n",
        "from forex_python.converter import CurrencyRates\n",
        "c = CurrencyRates()\n",
        "c.get_rate('USD', 'EUR')"
      ],
      "metadata": {
        "id": "X3dlViFV6-bb"
      },
      "execution_count": null,
      "outputs": []
    },
    {
      "cell_type": "markdown",
      "source": [
        "### Projekt 3: Sentiment Analyse\n",
        "Banken erhalten viele Kundenanliegen per Text. Die Bibliothek **germansentiment** kann das Sentiment (die Stimmung) dieser Texte deuten. Die Dokumentation der Bibliothek ist hier zu finden:\n",
        "\n",
        "*   https://huggingface.co/oliverguhr/german-sentiment-bert\n",
        "\n",
        "Installieren Sie die Bibliothek und versuchen Sie das Sentiment der folgenen Filial-Rezensionen zu deuten. Schreiben Sie eine Funktion, die als Eingabe die Liste mit Rezensionen erhält, diese auf das Sentiment analysiert und eine übersichtliche Ausgabe produziert.\n",
        "\n",
        "Zusatz: Können Sie für das Management analysieren, wie viel Prozent der Rezensionen positiv, negativ oder neutral sind?"
      ],
      "metadata": {
        "id": "KrqfGBNW8SaE"
      }
    },
    {
      "cell_type": "code",
      "source": [
        "reviews = [\n",
        "  \"Tolles Team in der Filiale, immer hilfsbereit und freundlich. Sehr zufrieden!\",\n",
        "  \"Schneller und unkomplizierter Service, kann die Filiale nur weiterempfehlen.\",\n",
        "  \"Lange Wartezeiten und unfreundliches Personal, werde meine Bank wechseln.\",\n",
        "  \"Immer wieder Probleme mit meinem Konto, werde die Filiale meiden.\",\n",
        "  \"Gute Beratung und schnelle Bearbeitung meiner Anliegen.\",\n",
        "  \"Personal wirkte desinteressiert und unprofessionell, enttäuscht von meinem Besuch.\",\n",
        "  \"Sehr zufrieden mit der Online-Banking Funktion, aber die Filiale selbst könnte besser organisiert sein.\",\n",
        "  \"Rasche und kompetente Hilfe bei meinem Anliegen, gerne wieder.\",\n",
        "  \"Unzufrieden mit den hohen Gebühren und dem mangelnden Service.\",\n",
        "  \"Angenehme und kompetente Beratung, werde die Filiale weiterhin nutzen.\"\n",
        "  ]"
      ],
      "metadata": {
        "id": "3VXJvdah8SAS"
      },
      "execution_count": null,
      "outputs": []
    },
    {
      "cell_type": "code",
      "source": [
        "!pip install germansentiment\n",
        "from germansentiment import SentimentModel\n",
        "\n",
        "model = SentimentModel()\n",
        "\n",
        "\n",
        "texts = [\n",
        "    \"Mit keinem guten Ergebniss\",\n",
        "    \"Das ist gar nicht mal so gut\",\n",
        "    \"Total awesome!\",\n",
        "    \"nicht so schlecht wie erwartet\",\n",
        "    \"Der Test verlief positiv.\",\n",
        "    \"Sie fährt ein grünes Auto.\"\n",
        "    ]\n",
        "       \n",
        "result = model.predict_sentiment(texts)\n",
        "print(result)"
      ],
      "metadata": {
        "id": "RGhr1qmgDaQo"
      },
      "execution_count": null,
      "outputs": []
    }
  ]
}