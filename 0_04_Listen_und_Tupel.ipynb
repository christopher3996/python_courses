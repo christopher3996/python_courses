{
  "nbformat": 4,
  "nbformat_minor": 0,
  "metadata": {
    "colab": {
      "name": "0_04_Listen_und_Tupel.ipynb",
      "provenance": [],
      "collapsed_sections": [],
      "authorship_tag": "ABX9TyP30guxEJC7GrPVSLFudaRS",
      "include_colab_link": true
    },
    "kernelspec": {
      "name": "python3",
      "display_name": "Python 3"
    }
  },
  "cells": [
    {
      "cell_type": "markdown",
      "metadata": {
        "id": "view-in-github",
        "colab_type": "text"
      },
      "source": [
        "<a href=\"https://colab.research.google.com/github/christopher3996/python_courses/blob/main/0_04_Listen_und_Tupel.ipynb\" target=\"_parent\"><img src=\"https://colab.research.google.com/assets/colab-badge.svg\" alt=\"Open In Colab\"/></a>"
      ]
    },
    {
      "cell_type": "markdown",
      "metadata": {
        "id": "n-5ZZmkQFhkG"
      },
      "source": [
        "**# Session 4**\n",
        "## Einführung in die Programmierung \n",
        "*Bank Kurse WiSe 2020/21 an der HWR Berlin*"
      ]
    },
    {
      "cell_type": "markdown",
      "metadata": {
        "id": "Wcag5yFwFpW0"
      },
      "source": [
        "#4. Listen und Tupel"
      ]
    },
    {
      "cell_type": "markdown",
      "metadata": {
        "id": "L0uVhflIFtg_"
      },
      "source": [
        "## 4.1. Tupel"
      ]
    },
    {
      "cell_type": "markdown",
      "metadata": {
        "id": "aodfD46QH2oF"
      },
      "source": [
        "### Aufgabe 4.1.1. "
      ]
    },
    {
      "cell_type": "markdown",
      "metadata": {
        "id": "3G3vHLSYF3Mj"
      },
      "source": [
        "Schreiben Sie ein Python Programm zur Erstellung eines Tupels $a$ mit 3 beliebigen ganzzahligen Werten. Geben Sie das gesamte Tupel mit *print* aus."
      ]
    },
    {
      "cell_type": "code",
      "metadata": {
        "id": "b7KQYxBVGIIQ"
      },
      "source": [
        ""
      ],
      "execution_count": null,
      "outputs": []
    },
    {
      "cell_type": "markdown",
      "metadata": {
        "id": "WxtXJlMCH6Ho"
      },
      "source": [
        "### Aufgabe 4.1.2."
      ]
    },
    {
      "cell_type": "markdown",
      "metadata": {
        "id": "2Z9PM_2eGloM"
      },
      "source": [
        "Erstellen Sie ein Tupel $b$ mit 5 Werten, darunter ein String, ein Integer, ein Float, ein Boolean und ein weiteres Tupel. Geben Sie $b$ aus."
      ]
    },
    {
      "cell_type": "code",
      "metadata": {
        "id": "ai98ZSFuGMve"
      },
      "source": [
        ""
      ],
      "execution_count": null,
      "outputs": []
    },
    {
      "cell_type": "markdown",
      "metadata": {
        "id": "Kb8Tz66SH7dT"
      },
      "source": [
        "### Aufgabe 4.1.3."
      ]
    },
    {
      "cell_type": "markdown",
      "metadata": {
        "id": "W3PpROpFIDmb"
      },
      "source": [
        "Betrachten Sie das Tupel $b$ aus Aufgabe 4.1.2.: Geben Sie die Integer Zahl in diesem Tupel aus mittels Indexierung."
      ]
    },
    {
      "cell_type": "code",
      "metadata": {
        "id": "PfsIulHkI1b0"
      },
      "source": [
        ""
      ],
      "execution_count": null,
      "outputs": []
    },
    {
      "cell_type": "markdown",
      "metadata": {
        "id": "Yl-LwJ0PIBie"
      },
      "source": [
        "### Aufgabe 4.1.4."
      ]
    },
    {
      "cell_type": "markdown",
      "metadata": {
        "id": "fSmmtlHfIUVT"
      },
      "source": [
        "Schreiben Sie ein Pyhton Programm, welches das 3-elementige Tupel $a$ auf Aufgabe 4.1.1. auftrennt und in die Variablen $z0, z1, z2$ speichert. Geben Sie $z2$ aus."
      ]
    },
    {
      "cell_type": "code",
      "metadata": {
        "id": "AT-J3dG8I5q_"
      },
      "source": [
        ""
      ],
      "execution_count": null,
      "outputs": []
    },
    {
      "cell_type": "markdown",
      "metadata": {
        "id": "NqqX5j_IICVG"
      },
      "source": [
        "### Aufgabe 4.1.5."
      ]
    },
    {
      "cell_type": "markdown",
      "metadata": {
        "id": "ryyuzXxHJPPH"
      },
      "source": [
        "Ein Tupel $transaction$ bündelt alle wichtigen Informationen zu einer Banküberweisung. Im Folgenden seien die einzelnen Felder tabellarisch dargestellt:\n",
        "\n",
        "Feld | tansaction\n",
        "--|--\n",
        "Sender | Bob\n",
        "Empfänger| Alice\n",
        "Betrag | 119.95\n",
        "Währung | EUR\n",
        "\n",
        "\n",
        "Erstellen Sie das Tupel $transaction$, welches die Daten in der angegebenen Reihenfolge speichert. Schreiben Sie dann ein Programm, das eine strukturierte Ausgabe erzeugt, aus der die Daten des Tupels und den Feldbezeichungen deutlich werden.\n",
        "\n",
        ">Zum Beispiel:<br>\n",
        ">Bob sendet Alice einen Betrag von 119.95 EUR.\n",
        ">\n",
        ">\n",
        "\n"
      ]
    },
    {
      "cell_type": "code",
      "metadata": {
        "id": "69xWvHdDKx5_",
        "outputId": "ea5dd153-415b-4bda-963d-c29bfafff73b",
        "colab": {
          "base_uri": "https://localhost:8080/",
          "height": 35
        }
      },
      "source": [
        ""
      ],
      "execution_count": null,
      "outputs": [
        {
          "output_type": "stream",
          "text": [
            "Bob sendet Alice einen Betrag von 119.95 EUR\n"
          ],
          "name": "stdout"
        }
      ]
    },
    {
      "cell_type": "markdown",
      "metadata": {
        "id": "erDfbEmjIC-2"
      },
      "source": [
        "### Aufgabe 4.1.6."
      ]
    },
    {
      "cell_type": "markdown",
      "metadata": {
        "id": "4AFSzACtZ6Yy"
      },
      "source": [
        "Initialisieren Sie folgendes Tupel:\n",
        "\n",
        "```\n",
        "anotherTuple = (4,2,5,7,7,4,3,2,32,4,9,7,6,32,1,1,5,5247,8538,3826,3)\n",
        "```\n",
        "\n",
        "*  Geben Sie das letzte Element aus, ohne vorher (manuell) zu zählen, wie lang das Tupel ist.\n",
        "*  Geben Sie die Länge des Tupels aus.\n",
        "*  Berechnen den Mittelwert des Tupels.\n",
        "* Geben Sie das Tupel in umgekehrter Reihenfolge mittels Indexierung aus. Hinweis: Google kann helfen."
      ]
    },
    {
      "cell_type": "code",
      "metadata": {
        "id": "itTVnv4OcO7V"
      },
      "source": [
        "# initialize tuple\n",
        "anotherTuple = (4,2,5,7,7,4,3,2,32,4,9,7,6,32,1,1,5,5247,8538,3826,3)"
      ],
      "execution_count": null,
      "outputs": []
    },
    {
      "cell_type": "code",
      "metadata": {
        "id": "o1qLkJnmcAIp"
      },
      "source": [
        "# last element\n"
      ],
      "execution_count": null,
      "outputs": []
    },
    {
      "cell_type": "code",
      "metadata": {
        "id": "WFPMMEBkWceb"
      },
      "source": [
        "# length\n"
      ],
      "execution_count": null,
      "outputs": []
    },
    {
      "cell_type": "code",
      "metadata": {
        "id": "xx-ayz4NWcWm"
      },
      "source": [
        "# mean\n"
      ],
      "execution_count": null,
      "outputs": []
    },
    {
      "cell_type": "code",
      "metadata": {
        "id": "Y9LNXrpIZjiX"
      },
      "source": [
        "# reverse tuple\n"
      ],
      "execution_count": null,
      "outputs": []
    },
    {
      "cell_type": "markdown",
      "metadata": {
        "id": "NJ8hX5i2c9jl"
      },
      "source": [
        "## 4.2. Listen"
      ]
    },
    {
      "cell_type": "markdown",
      "metadata": {
        "id": "dxhSWsVRxRPR"
      },
      "source": [
        "### Aufgabe 4.2.1."
      ]
    },
    {
      "cell_type": "markdown",
      "metadata": {
        "id": "T8Ir2i_XxaVL"
      },
      "source": [
        "Schreiben Sie ein Python Programm zur Erstellung einer Liste $u$ mit 3 beliebigen ganzzahligen Werten. Geben Sie die gesamte Liste mit *print* aus."
      ]
    },
    {
      "cell_type": "code",
      "metadata": {
        "id": "_OMeXQHLxgcA"
      },
      "source": [
        ""
      ],
      "execution_count": null,
      "outputs": []
    },
    {
      "cell_type": "markdown",
      "metadata": {
        "id": "qoaMkt7fxlqA"
      },
      "source": [
        "### Aufgabe 4.2.2."
      ]
    },
    {
      "cell_type": "markdown",
      "metadata": {
        "id": "8Xkfy93hxoQb"
      },
      "source": [
        "Verbinden sie die beiden Listen\n",
        "\n",
        "```\n",
        "l1 = [\"Me\", \"is\", \"Na\", \"Ali\"]\n",
        "l2 = [\"in\",\"me\",\"t\",\"ce\"]\n",
        "```\n",
        "\n",
        "zu einer dritten Liste $l3$, sodass diese den folgenden Inhalt umfasst:\n",
        "\n",
        "> ['Mein', 'Name', 'ist', 'Alice']\n",
        "\n",
        "Geben Sie $l3$ anschließend aus.\n"
      ]
    },
    {
      "cell_type": "code",
      "metadata": {
        "id": "im3Mt504xtH-",
        "outputId": "f71dc474-2163-4a7c-eee7-5090d53650ff",
        "colab": {
          "base_uri": "https://localhost:8080/",
          "height": 35
        }
      },
      "source": [
        ""
      ],
      "execution_count": null,
      "outputs": [
        {
          "output_type": "stream",
          "text": [
            "['Mein', 'Name', 'ist', 'Alice']\n"
          ],
          "name": "stdout"
        }
      ]
    },
    {
      "cell_type": "markdown",
      "metadata": {
        "id": "Cg-M8WaSy8dn"
      },
      "source": [
        "### Aufgabe 4.2.3."
      ]
    },
    {
      "cell_type": "markdown",
      "metadata": {
        "id": "utDIVSbwzdgv"
      },
      "source": [
        "Erstellen Sie zunächst eine leere Liste $kunden$. \n",
        "\n",
        "\n",
        "1.   Fügen Sie den Kunden \"Potter, Harry\" hinzu.\n",
        "2.   Fügen Sie die Kundin \"Granger, Hermine\" hinzu.\n",
        "3.   Fügen Sie den Kunden \"Weasley, Ron\" hinzu.\n",
        "3.   Fügen Sie die Kunden \"Weasley, George\" und \"Weasley, Fred\" hinzu. (Google: \"Python list append multiple\")\n",
        "\n",
        "Geben Sie die Liste aus und überprüfen Sie die Ausgabe.\n",
        "\n",
        "5.   Sortieren Sie die Liste. Überprüfen Sie, ob die Liste korrekt alphabetisch sortiert wurde.\n",
        "6.   Entfernen Sie Fred Weasley und überprüfen das korrekte Löschen.\n",
        "7.   Welchen Index hat Harry Potter nun in der Liste?\n",
        "8.   Sie planen eine Werbeaktion, bei der zunächst die beiden ersten Kunden in der Liste kontaktiert werden sollen. Geben Sie die Namen der Kunden aus.\n",
        "9.   Welcher Kunde wird zuletzt kontaktiert, wenn man alphabetisch durch die Liste geht? Geben Sie den Namen aus.\n",
        "10.  Sie schließen Ihren Laden und benötigen die Liste nicht mehr. Löschen Sie diese.\n"
      ]
    },
    {
      "cell_type": "code",
      "metadata": {
        "id": "EhWo4NwzzoAd"
      },
      "source": [
        "#1-4\n"
      ],
      "execution_count": null,
      "outputs": []
    },
    {
      "cell_type": "code",
      "metadata": {
        "id": "fWkmUa5B0V7Z"
      },
      "source": [
        "#5\n"
      ],
      "execution_count": null,
      "outputs": []
    },
    {
      "cell_type": "code",
      "metadata": {
        "id": "j4gXG9Uz36PP"
      },
      "source": [
        "#6\n"
      ],
      "execution_count": null,
      "outputs": []
    },
    {
      "cell_type": "code",
      "metadata": {
        "id": "9OdR85XZ4GRM"
      },
      "source": [
        "#7\n"
      ],
      "execution_count": null,
      "outputs": []
    },
    {
      "cell_type": "code",
      "metadata": {
        "id": "Rd_34GEl4VrV"
      },
      "source": [
        "#8\n"
      ],
      "execution_count": null,
      "outputs": []
    },
    {
      "cell_type": "code",
      "metadata": {
        "id": "lA1-uWz74wFT"
      },
      "source": [
        "#9\n"
      ],
      "execution_count": null,
      "outputs": []
    },
    {
      "cell_type": "code",
      "metadata": {
        "id": "nJprXysW5JmX"
      },
      "source": [
        "#10\n"
      ],
      "execution_count": null,
      "outputs": []
    },
    {
      "cell_type": "markdown",
      "metadata": {
        "id": "zsmbF4gi5Oa2"
      },
      "source": [
        "### Aufgabe 4.2.4."
      ]
    },
    {
      "cell_type": "markdown",
      "metadata": {
        "id": "7bxj1SnW5RFl"
      },
      "source": [
        "Betrachten Sie folgende Transaktionen:\n",
        "\n",
        "Sender | Empfänger | Betrag | Währung\n",
        "--|--|--|--\n",
        "Alice | Bob | 100.00 | EUR\n",
        "Hermine | Harry | 33.32 | KNT\n",
        "Alice | Ron | 9.99 | USD\n",
        "Fred | Bob | 18.36 | EUR\n",
        "\n",
        "Die einzelnen Transaktionen sind als Tupel zu repräsentieren. Die gesamte Historie als Liste. \n",
        "\n",
        "1.   Erstellen Sie eine Liste $tx$ von Transaktions-Tupeln in der oben genannten Reihenfolge.\n",
        "2.   Harry überweist Bob 50.00 USD. Fügen Sie die Transaktion hinzu.\n",
        "3.   Das Konto von Harry war nicht gedeckt und die Transaktion wird daher wieder gelöscht."
      ]
    },
    {
      "cell_type": "code",
      "metadata": {
        "id": "mm3hZuqf5YAu"
      },
      "source": [
        "#1\n"
      ],
      "execution_count": null,
      "outputs": []
    },
    {
      "cell_type": "code",
      "metadata": {
        "id": "ULcvlauD8ud4"
      },
      "source": [
        "#2\n"
      ],
      "execution_count": null,
      "outputs": []
    },
    {
      "cell_type": "code",
      "metadata": {
        "id": "gNOPMTOz9Dmf"
      },
      "source": [
        "#3"
      ],
      "execution_count": null,
      "outputs": []
    },
    {
      "cell_type": "markdown",
      "metadata": {
        "id": "k8nROPb7LvHA"
      },
      "source": [
        "### Aufgabe 4.2.5."
      ]
    },
    {
      "cell_type": "markdown",
      "metadata": {
        "id": "26O344riLwd0"
      },
      "source": [
        "Der CEO der Kommerzkasse AG benötigt ein Tool, mit dem Transaktionen in einer Eingabemaske eingegeben werden nach dem Format aus Aufgabe 4.2.4. gespeichert werden können.\n",
        "\n",
        "Schreiben Sie ein Python Programm mit folgender Spezifikation:\n",
        "*  Eine Transaktion wird durch ein Tupel repräsentiert\n",
        "*  Die einzelnen Transaktions-Tupel werden in einer Liste $txList$ gespeichert\n",
        "*  Die Liste $txList$ ist zu Beginn leer und wird in einer separaten Notebook-Zelle initialisiert\n",
        "*  Das Programm akzeptiert keine leeren Sender und Empfänger\n",
        "*  Das Programm akzeptiert nur positive Geldbeträge\n",
        "*  Das Programm akzeptiert nur Währungen mit genau 3 Buchstaben\n",
        "*  Wird ein Wert nicht akzeptiert, erfolgt eine Fehlermeldung \"Ungültige Transaktion\" und die Transaktion wird nicht gespeichert.\n",
        "\n",
        ">**Beispiel-Input:**<br>\n",
        ">Sender: Alice<br>\n",
        ">Empfänger: Bob<br>\n",
        ">Betrag: 123.00<br>\n",
        ">Währung: EUR<br>\n",
        ">\n",
        ">**Output:**<br>\n",
        ">Die Transaktion (\"Alice\", \"Bob\", 123.00, \"EUR\") wurde hinzugefügt.\n",
        "\n",
        "Fügen Sie mehrere Transkationen hinzu und testen Sie auch ungültige Eingaben. Lassen Sie sich die Transaktionsliste ausgeben."
      ]
    },
    {
      "cell_type": "code",
      "metadata": {
        "id": "H4VKl_M8tSV5"
      },
      "source": [
        ""
      ],
      "execution_count": null,
      "outputs": []
    },
    {
      "cell_type": "code",
      "metadata": {
        "id": "MnheBJsFOnzZ",
        "outputId": "0f25e1ef-a22d-448a-e57b-9ca7a561c78c",
        "colab": {
          "base_uri": "https://localhost:8080/",
          "height": 104
        }
      },
      "source": [
        "\n"
      ],
      "execution_count": null,
      "outputs": [
        {
          "output_type": "stream",
          "text": [
            "Sender: Ron\n",
            "Empfänger: Alice\n",
            "Betrag: 12.01\n",
            "Währung: USD\n",
            "Die Transaktion ('Ron', 'Alice', 12.01, 'USD') wurde hinzugefügt.\n"
          ],
          "name": "stdout"
        }
      ]
    },
    {
      "cell_type": "code",
      "metadata": {
        "id": "zkkuRPQoPykT",
        "outputId": "4f67f05a-f6b8-4de4-b816-a59929cb9e33",
        "colab": {
          "base_uri": "https://localhost:8080/",
          "height": 35
        }
      },
      "source": [
        "txList # Beispielausgabe"
      ],
      "execution_count": null,
      "outputs": [
        {
          "output_type": "execute_result",
          "data": {
            "text/plain": [
              "[('Alice', 'Bob', 100.0, 'EUR'), ('Ron', 'Alice', 12.01, 'USD')]"
            ]
          },
          "metadata": {
            "tags": []
          },
          "execution_count": 132
        }
      ]
    }
  ]
}