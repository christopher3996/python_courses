{
  "nbformat": 4,
  "nbformat_minor": 0,
  "metadata": {
    "colab": {
      "provenance": [],
      "include_colab_link": true
    },
    "kernelspec": {
      "name": "python3",
      "display_name": "Python 3"
    }
  },
  "cells": [
    {
      "cell_type": "markdown",
      "metadata": {
        "id": "view-in-github",
        "colab_type": "text"
      },
      "source": [
        "<a href=\"https://colab.research.google.com/github/christopher3996/python_courses/blob/main/03_Listen_und_Tabellen.ipynb\" target=\"_parent\"><img src=\"https://colab.research.google.com/assets/colab-badge.svg\" alt=\"Open In Colab\"/></a>"
      ]
    },
    {
      "cell_type": "markdown",
      "metadata": {
        "id": "n-5ZZmkQFhkG"
      },
      "source": [
        "## Einführung in die Python Programmierung\n",
        "*HWR Berlin, Christopher Gerling*"
      ]
    },
    {
      "cell_type": "markdown",
      "metadata": {
        "id": "Wcag5yFwFpW0"
      },
      "source": [
        "#3. Listen und Tabellen"
      ]
    },
    {
      "cell_type": "markdown",
      "metadata": {
        "id": "dxhSWsVRxRPR"
      },
      "source": [
        "### Aufgabe 3.1."
      ]
    },
    {
      "cell_type": "markdown",
      "source": [
        "Schreiben Sie ein Python-Programm zur Erstellung einer Liste $a$ mit 3 beliebigen ganzzahligen Werten. Geben Sie die gesamte Liste mit print aus."
      ],
      "metadata": {
        "id": "ePI7Z50JCePQ"
      }
    },
    {
      "cell_type": "code",
      "source": [],
      "metadata": {
        "id": "oVRt1TFICTBO"
      },
      "execution_count": null,
      "outputs": []
    },
    {
      "cell_type": "markdown",
      "metadata": {
        "id": "erDfbEmjIC-2"
      },
      "source": [
        "### Aufgabe 3.2."
      ]
    },
    {
      "cell_type": "markdown",
      "metadata": {
        "id": "4AFSzACtZ6Yy"
      },
      "source": [
        "Initialisieren Sie folgende Liste:\n",
        "\n",
        "```\n",
        "numList = (4,2,5,7,7,4,3,2,32,4,9,7,6,32,1,1,5,5247,8538,3826,3)\n",
        "```\n",
        "\n",
        "* Geben Sie das letzte Element aus, ohne vorher (manuell) zu zählen, wie lang die Liste ist.\n",
        "* Geben Sie die Länge der Liste aus.\n",
        "* Berechnen Sie das arithmetische Mittel (einfacher Durchschnitt) der Liste.\n",
        "* Geben Sie die Liste in umgekehrter Reihenfolge aus.\n"
      ]
    },
    {
      "cell_type": "code",
      "metadata": {
        "id": "itTVnv4OcO7V"
      },
      "source": [
        "# initialize list\n",
        "numList = (4,2,5,7,7,4,3,2,32,4,9,7,6,32,1,1,5,5247,8538,3826,3)"
      ],
      "execution_count": null,
      "outputs": []
    },
    {
      "cell_type": "code",
      "metadata": {
        "id": "o1qLkJnmcAIp"
      },
      "source": [
        "# last element\n"
      ],
      "execution_count": null,
      "outputs": []
    },
    {
      "cell_type": "code",
      "metadata": {
        "id": "WFPMMEBkWceb"
      },
      "source": [
        "# length\n"
      ],
      "execution_count": null,
      "outputs": []
    },
    {
      "cell_type": "code",
      "metadata": {
        "id": "xx-ayz4NWcWm"
      },
      "source": [
        "# arithmetic mean\n"
      ],
      "execution_count": null,
      "outputs": []
    },
    {
      "cell_type": "code",
      "metadata": {
        "id": "Y9LNXrpIZjiX"
      },
      "source": [
        "# reverse list\n"
      ],
      "execution_count": null,
      "outputs": []
    },
    {
      "cell_type": "markdown",
      "metadata": {
        "id": "qoaMkt7fxlqA"
      },
      "source": [
        "### Aufgabe 3.3."
      ]
    },
    {
      "cell_type": "markdown",
      "metadata": {
        "id": "8Xkfy93hxoQb"
      },
      "source": [
        "Verbinden sie die beiden Listen\n",
        "\n",
        "```\n",
        "l1 = [\"Me\", \"is\", \"Na\", \"Ali\"]\n",
        "l2 = [\"in\",\"me\",\"t\",\"ce\"]\n",
        "```\n",
        "\n",
        "zu einer dritten Liste $l3$, sodass diese den folgenden Inhalt umfasst:\n",
        "\n",
        "> ['Mein', 'Name', 'ist', 'Alice']\n",
        "\n",
        "Geben Sie $l3$ anschließend aus.\n",
        "\n",
        "Hinweis: Sie müssen hierzu mittels Indexierung auf die einzelnen Bestandteile zugreifen und diese jeweils Verketten.\n"
      ]
    },
    {
      "cell_type": "code",
      "metadata": {
        "id": "im3Mt504xtH-",
        "outputId": "f71dc474-2163-4a7c-eee7-5090d53650ff",
        "colab": {
          "base_uri": "https://localhost:8080/",
          "height": 35
        }
      },
      "source": [],
      "execution_count": null,
      "outputs": [
        {
          "output_type": "stream",
          "text": [
            "['Mein', 'Name', 'ist', 'Alice']\n"
          ],
          "name": "stdout"
        }
      ]
    },
    {
      "cell_type": "markdown",
      "metadata": {
        "id": "Cg-M8WaSy8dn"
      },
      "source": [
        "### Aufgabe 3.4."
      ]
    },
    {
      "cell_type": "markdown",
      "metadata": {
        "id": "utDIVSbwzdgv"
      },
      "source": [
        "Erstellen Sie zunächst eine leere Liste $kunden$.\n",
        "\n",
        "1. Fügen Sie die folgenden Kunden hinzu: \"Harry\", \"Hermine\", \"Ron\", \"Fred\" und \"George\".\n",
        "2. Sortieren Sie die Liste und überprüfen Sie die Ausgabe.\n",
        "3. Entfernen Sie \"Fred\" aus der Liste und überprüfen Sie erneut.\n",
        "4. Welchen Index hat \"Harry\" nun in der Liste?\n",
        "5. Sie planen eine Werbeaktion und wollen die ersten zwei Kunden in der Liste kontaktieren. Wer sind diese?\n",
        "6. Welcher Kunde steht am Ende der alphabetisch sortierten Liste?\n",
        "7. Löschen Sie die Liste kunden.\n",
        "\n"
      ]
    },
    {
      "cell_type": "code",
      "metadata": {
        "id": "EhWo4NwzzoAd"
      },
      "source": [
        "#1\n"
      ],
      "execution_count": null,
      "outputs": []
    },
    {
      "cell_type": "code",
      "metadata": {
        "id": "fWkmUa5B0V7Z"
      },
      "source": [
        "#2\n"
      ],
      "execution_count": null,
      "outputs": []
    },
    {
      "cell_type": "code",
      "metadata": {
        "id": "j4gXG9Uz36PP"
      },
      "source": [
        "#3\n"
      ],
      "execution_count": null,
      "outputs": []
    },
    {
      "cell_type": "code",
      "metadata": {
        "id": "9OdR85XZ4GRM"
      },
      "source": [
        "#4\n"
      ],
      "execution_count": null,
      "outputs": []
    },
    {
      "cell_type": "code",
      "metadata": {
        "id": "Rd_34GEl4VrV"
      },
      "source": [
        "#5\n"
      ],
      "execution_count": null,
      "outputs": []
    },
    {
      "cell_type": "code",
      "metadata": {
        "id": "lA1-uWz74wFT"
      },
      "source": [
        "#6\n"
      ],
      "execution_count": null,
      "outputs": []
    },
    {
      "cell_type": "code",
      "metadata": {
        "id": "nJprXysW5JmX"
      },
      "source": [
        "#7\n"
      ],
      "execution_count": null,
      "outputs": []
    },
    {
      "cell_type": "markdown",
      "metadata": {
        "id": "zsmbF4gi5Oa2"
      },
      "source": [
        "### Aufgabe 3.5."
      ]
    },
    {
      "cell_type": "markdown",
      "metadata": {
        "id": "7bxj1SnW5RFl"
      },
      "source": [
        "Sie arbeiten in einer Bank und werden täglich mit Transaktionsdaten konfrontiert. Die Daten für jede Transaktion – bestehend aus Sender, Empfänger, Betrag und Währung – werden in Listen gespeichert. Mehrere dieser Transaktionen werden in einer übergeordneten Liste gespeichert, wodurch Sie eine Tabelle erhalten.\n",
        "Betrachten Sie folgende Transaktionen:\n",
        "\n",
        "Sender | Empfänger | Betrag | Währung\n",
        "--|--|--|--\n",
        "Alice | Bob | 100.00 | EUR\n",
        "Hermine | Harry | 33.32 | KNT\n",
        "Alice | Ron | 9.99 | USD\n",
        "Fred | Bob | 18.36 | EUR\n",
        "\n",
        "Die einzelnen Transaktionen sind als Tupel zu repräsentieren. Die gesamte Historie als Liste.\n",
        "\n",
        "1.   Erstellen Sie basierend auf den obigen Transaktionsdaten eine Liste $tx$, bei der jede Transaktion als eigene Liste innerhalb von $tx$ gespeichert wird.\n",
        "2.   Harry entschließt sich, Bob 50.00 USD zu überweisen. Fügen Sie diese neue Transaktion am Ende der $tx$-Liste hinzu.\n",
        "3.   Es stellt sich heraus, dass Harrys Konto nicht ausreichend gedeckt war und die Bank die letzte Transaktion stornieren muss. Entfernen Sie die zuletzt hinzugefügte Transaktion aus der $tx$-Liste."
      ]
    },
    {
      "cell_type": "code",
      "metadata": {
        "id": "mm3hZuqf5YAu"
      },
      "source": [
        "#1\n"
      ],
      "execution_count": null,
      "outputs": []
    },
    {
      "cell_type": "code",
      "metadata": {
        "id": "ULcvlauD8ud4"
      },
      "source": [
        "#2\n"
      ],
      "execution_count": null,
      "outputs": []
    },
    {
      "cell_type": "code",
      "metadata": {
        "id": "gNOPMTOz9Dmf"
      },
      "source": [
        "#3"
      ],
      "execution_count": null,
      "outputs": []
    },
    {
      "cell_type": "markdown",
      "source": [
        "---\n",
        "## Bonusaufgabe: Einführung in Pandas DataFrames\n",
        "\n",
        "(für die Profis)"
      ],
      "metadata": {
        "id": "HVFJF6LTlcfx"
      }
    },
    {
      "cell_type": "markdown",
      "source": [
        "\n",
        "**Pandas** ist eine leistungsstarke und weit verbreitete Bibliothek für Datenanalyse in Python. Mit ihr können Sie Tabellen (genannt DataFrames) erstellen und manipulieren, ähnlich wie in Excel oder SQL. Die Bibliothek ist besonders nützlich, wenn Sie mit großen Datenmengen arbeiten.\n",
        "\n",
        "\n",
        "\n",
        "Ein **DataFrame** in Pandas ist wie eine Tabelle mit Zeilen und Spalten. Die Spalten haben Namen und die Zeilen haben Indizes. Ein einfacher DataFrame wird so erzeugt:\n",
        "\n",
        "```python\n",
        "import pandas as pd # import der Bibliothek\n",
        "\n",
        "# Erstellen eines DataFrames aus einer List-of-Lists\n",
        "data = [\n",
        "    ['Alice', 'Bob', 100.00, 'EUR'],\n",
        "    ['Hermine', 'Harry', 33.32, 'KNT'],\n",
        "    ['Alice', 'Ron', 9.99, 'USD'],\n",
        "    ['Fred', 'Bob', 18.36, 'EUR']\n",
        "]\n",
        "\n",
        "df = pd.DataFrame(data, columns=['Sender', 'Empfänger', 'Betrag', 'Währung'])\n",
        "\n",
        "print(df)\n",
        "```\n",
        "\n",
        "---\n",
        "\n",
        "### Zugriff auf Daten im DataFrame\n",
        "\n",
        "**Zugriff auf Spalten:** Um auf eine Spalte zuzugreifen, können Sie den Spaltennamen wie folgt verwenden:\n",
        "\n",
        "```python\n",
        "print(df['Sender'])\n",
        "```\n",
        "\n",
        "**Zugriff auf Zeilen:** Sie können auf bestimmte Zeilen mit `iloc` zugreifen:\n",
        "\n",
        "```python\n",
        "# Zugriff auf die zweite Zeile\n",
        "print(df.iloc[1])\n",
        "```\n",
        "\n",
        "**Auswahl basierend auf Bedingungen:** Vielleicht möchten Sie alle Transaktionen sehen, bei denen Alice der Sender ist:\n",
        "\n",
        "```python\n",
        "alice_transaktionen = df[df['Sender'] == 'Alice']\n",
        "print(alice_transaktionen)\n",
        "```\n",
        "\n",
        "### Einfache Operationen\n",
        "\n",
        "**Mittelwert einer Spalte:** Möchten Sie den Durchschnittsbetrag aller Transaktionen wissen?\n",
        "\n",
        "```python\n",
        "mittelwert = df['Betrag'].mean()\n",
        "print(mittelwert)\n",
        "```\n",
        "\n",
        "**Einzigartige Werte:** Welche verschiedenen Währungen gibt es in den Transaktionen?\n",
        "\n",
        "```python\n",
        "währungen = df['Währung'].unique()\n",
        "print(währungen)\n",
        "```\n",
        "\n",
        "**Sortieren der Daten:** Sie können die Daten nach einer bestimmten Spalte sortieren:\n",
        "\n",
        "```python\n",
        "# Sortieren nach Betrag, von niedrig zu hoch\n",
        "df_sorted = df.sort_values(by='Betrag')\n",
        "print(df_sorted)\n",
        "\n",
        "# Sortieren nach Betrag, von hoch zu niedrig\n",
        "df_sorted_desc = df.sort_values(by='Betrag', ascending=False)\n",
        "print(df_sorted_desc)\n",
        "```\n",
        "\n",
        "#### Übungsaufgaben:\n",
        "\n",
        "1. **Erstellen Sie einen neuen DataFrame** mit Transaktionen, die nur in EUR sind.\n",
        "2. **Finden Sie den höchsten und niedrigsten Betrag** in den Transaktionen.\n",
        "3. **Zählen Sie, wie viele Transaktionen** für jede Währung vorhanden sind.\n",
        "4. **Erstellen Sie eine neue Spalte \"Transaktionstyp\"** und setzen Sie für alle Transaktionen mit einem Betrag über 50 den Wert \"Groß\" und für alle anderen den Wert \"Klein\".\n",
        "\n"
      ],
      "metadata": {
        "id": "1B6F2Zmom7Co"
      }
    },
    {
      "cell_type": "code",
      "source": [],
      "metadata": {
        "id": "Pm1zIYTEnStz"
      },
      "execution_count": null,
      "outputs": []
    }
  ]
}